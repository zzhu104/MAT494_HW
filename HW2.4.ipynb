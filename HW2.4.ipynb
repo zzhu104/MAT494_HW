{
  "nbformat": 4,
  "nbformat_minor": 0,
  "metadata": {
    "colab": {
      "name": "Untitled6.ipynb",
      "provenance": [],
      "authorship_tag": "ABX9TyN2H+jc0QU4rzEwDuiG8ZMz",
      "include_colab_link": true
    },
    "kernelspec": {
      "name": "python3",
      "display_name": "Python 3"
    },
    "language_info": {
      "name": "python"
    }
  },
  "cells": [
    {
      "cell_type": "markdown",
      "metadata": {
        "id": "view-in-github",
        "colab_type": "text"
      },
      "source": [
        "<a href=\"https://colab.research.google.com/github/zzhu104/MAT494_HW/blob/main/HW2.4.ipynb\" target=\"_parent\"><img src=\"https://colab.research.google.com/assets/colab-badge.svg\" alt=\"Open In Colab\"/></a>"
      ]
    },
    {
      "cell_type": "markdown",
      "metadata": {
        "id": "NtPhZJVQeyGU"
      },
      "source": [
        "2.4 MLE"
      ]
    },
    {
      "cell_type": "markdown",
      "metadata": {
        "id": "ot-AR4RRgr_r"
      },
      "source": [
        "Let $X_1,X_2,\\cdots,X_n$ have joint pmf or pdf$$f (x_1, x_2,\\cdots, x_n;\\theta_1,\\cdots,\\theta_m)\\hspace{5mm} (*)$$where the parameters $\\theta_1,\\cdots,\\theta_m$ have unknown values. When $_1,\\cdots, x_n$ are the observed sample values and (*) is regarded as a function of $\\theta_1,\\cdots,\\theta_m$, it is called the likelihood function."
      ]
    },
    {
      "cell_type": "code",
      "metadata": {
        "colab": {
          "base_uri": "https://localhost:8080/"
        },
        "id": "PVNhF8f3d8ir",
        "outputId": "4a31a0eb-bb99-4b01-ec59-2758cea0f0a0"
      },
      "source": [
        "# import libraries\n",
        "import numpy as np, pandas as pd\n",
        "from matplotlib import pyplot as plt\n",
        "import seaborn as sns\n",
        "from scipy.optimize import minimize\n",
        "import scipy.stats as stats\n",
        "import pymc3 as pm3\n",
        "import statsmodels.api as sm\n",
        "from statsmodels.base.model import GenericLikelihoodModel\n",
        "%matplotlib inline"
      ],
      "execution_count": 3,
      "outputs": [
        {
          "output_type": "stream",
          "name": "stderr",
          "text": [
            "/usr/local/lib/python3.7/dist-packages/statsmodels/tools/_testing.py:19: FutureWarning: pandas.util.testing is deprecated. Use the functions in the public API at pandas.testing instead.\n",
            "  import pandas.util.testing as tm\n"
          ]
        }
      ]
    },
    {
      "cell_type": "code",
      "metadata": {
        "id": "gdqXDQXtg_KA"
      },
      "source": [
        "# generate data\n",
        "N = 100\n",
        "x = np.linspace(0,20,N)\n",
        "ϵ = np.random.normal(loc = 0.0, scale = 5.0, size = N)\n",
        "y = 3*x + ϵ\n",
        "df = pd.DataFrame({'y':y, 'x':x})\n",
        "df['constant'] = 1"
      ],
      "execution_count": 5,
      "outputs": []
    },
    {
      "cell_type": "code",
      "metadata": {
        "colab": {
          "base_uri": "https://localhost:8080/",
          "height": 334
        },
        "id": "1KPv2bsKhAg6",
        "outputId": "15f01554-cca9-474f-bdc2-ff9e710dcedd"
      },
      "source": [
        "# plot\n",
        "sns.regplot(df.x, df.y);"
      ],
      "execution_count": 6,
      "outputs": [
        {
          "output_type": "stream",
          "name": "stderr",
          "text": [
            "/usr/local/lib/python3.7/dist-packages/seaborn/_decorators.py:43: FutureWarning: Pass the following variables as keyword args: x, y. From version 0.12, the only valid positional argument will be `data`, and passing other arguments without an explicit keyword will result in an error or misinterpretation.\n",
            "  FutureWarning\n"
          ]
        },
        {
          "output_type": "display_data",
          "data": {
            "image/png": "[encoded data removed]",
            "text/plain": [
              "<Figure size 432x288 with 1 Axes>"
            ]
          },
          "metadata": {
            "needs_background": "light"
          }
        }
      ]
    },
    {
      "cell_type": "code",
      "metadata": {
        "colab": {
          "base_uri": "https://localhost:8080/",
          "height": 452
        },
        "id": "zvt3JgyeifHW",
        "outputId": "66e4882f-45d2-4f78-a8cb-9f7b11d693f7"
      },
      "source": [
        "# split features and target\n",
        "X = df[['constant', 'x']]\n",
        "# fit model and summarize\n",
        "sm.OLS(y,X).fit().summary()"
      ],
      "execution_count": 8,
      "outputs": [
        {
          "output_type": "execute_result",
          "data": {
            "text/html": [
              "<table class=\"simpletable\">\n",
              "<caption>OLS Regression Results</caption>\n",
              "<tr>\n",
              "  <th>Dep. Variable:</th>            <td>y</td>        <th>  R-squared:         </th> <td>   0.922</td>\n",
              "</tr>\n",
              "<tr>\n",
              "  <th>Model:</th>                   <td>OLS</td>       <th>  Adj. R-squared:    </th> <td>   0.921</td>\n",
              "</tr>\n",
              "<tr>\n",
              "  <th>Method:</th>             <td>Least Squares</td>  <th>  F-statistic:       </th> <td>   1161.</td>\n",
              "</tr>\n",
              "<tr>\n",
              "  <th>Date:</th>             <td>Mon, 27 Sep 2021</td> <th>  Prob (F-statistic):</th> <td>3.84e-56</td>\n",
              "</tr>\n",
              "<tr>\n",
              "  <th>Time:</th>                 <td>04:41:07</td>     <th>  Log-Likelihood:    </th> <td> -305.27</td>\n",
              "</tr>\n",
              "<tr>\n",
              "  <th>No. Observations:</th>      <td>   100</td>      <th>  AIC:               </th> <td>   614.5</td>\n",
              "</tr>\n",
              "<tr>\n",
              "  <th>Df Residuals:</th>          <td>    98</td>      <th>  BIC:               </th> <td>   619.8</td>\n",
              "</tr>\n",
              "<tr>\n",
              "  <th>Df Model:</th>              <td>     1</td>      <th>                     </th>     <td> </td>   \n",
              "</tr>\n",
              "<tr>\n",
              "  <th>Covariance Type:</th>      <td>nonrobust</td>    <th>                     </th>     <td> </td>   \n",
              "</tr>\n",
              "</table>\n",
              "<table class=\"simpletable\">\n",
              "<tr>\n",
              "      <td></td>        <th>coef</th>     <th>std err</th>      <th>t</th>      <th>P>|t|</th>  <th>[0.025</th>    <th>0.975]</th>  \n",
              "</tr>\n",
              "<tr>\n",
              "  <th>constant</th> <td>   -0.8198</td> <td>    1.027</td> <td>   -0.798</td> <td> 0.427</td> <td>   -2.859</td> <td>    1.219</td>\n",
              "</tr>\n",
              "<tr>\n",
              "  <th>x</th>        <td>    3.0245</td> <td>    0.089</td> <td>   34.080</td> <td> 0.000</td> <td>    2.848</td> <td>    3.201</td>\n",
              "</tr>\n",
              "</table>\n",
              "<table class=\"simpletable\">\n",
              "<tr>\n",
              "  <th>Omnibus:</th>       <td> 2.896</td> <th>  Durbin-Watson:     </th> <td>   1.986</td>\n",
              "</tr>\n",
              "<tr>\n",
              "  <th>Prob(Omnibus):</th> <td> 0.235</td> <th>  Jarque-Bera (JB):  </th> <td>   2.257</td>\n",
              "</tr>\n",
              "<tr>\n",
              "  <th>Skew:</th>          <td>-0.224</td> <th>  Prob(JB):          </th> <td>   0.324</td>\n",
              "</tr>\n",
              "<tr>\n",
              "  <th>Kurtosis:</th>      <td> 2.416</td> <th>  Cond. No.          </th> <td>    23.1</td>\n",
              "</tr>\n",
              "</table><br/><br/>Warnings:<br/>[1] Standard Errors assume that the covariance matrix of the errors is correctly specified."
            ],
            "text/plain": [
              "<class 'statsmodels.iolib.summary.Summary'>\n",
              "\"\"\"\n",
              "                            OLS Regression Results                            \n",
              "==============================================================================\n",
              "Dep. Variable:                      y   R-squared:                       0.922\n",
              "Model:                            OLS   Adj. R-squared:                  0.921\n",
              "Method:                 Least Squares   F-statistic:                     1161.\n",
              "Date:                Mon, 27 Sep 2021   Prob (F-statistic):           3.84e-56\n",
              "Time:                        04:41:07   Log-Likelihood:                -305.27\n",
              "No. Observations:                 100   AIC:                             614.5\n",
              "Df Residuals:                      98   BIC:                             619.8\n",
              "Df Model:                           1                                         \n",
              "Covariance Type:            nonrobust                                         \n",
              "==============================================================================\n",
              "                 coef    std err          t      P>|t|      [0.025      0.975]\n",
              "------------------------------------------------------------------------------\n",
              "constant      -0.8198      1.027     -0.798      0.427      -2.859       1.219\n",
              "x              3.0245      0.089     34.080      0.000       2.848       3.201\n",
              "==============================================================================\n",
              "Omnibus:                        2.896   Durbin-Watson:                   1.986\n",
              "Prob(Omnibus):                  0.235   Jarque-Bera (JB):                2.257\n",
              "Skew:                          -0.224   Prob(JB):                        0.324\n",
              "Kurtosis:                       2.416   Cond. No.                         23.1\n",
              "==============================================================================\n",
              "\n",
              "Warnings:\n",
              "[1] Standard Errors assume that the covariance matrix of the errors is correctly specified.\n",
              "\"\"\""
            ]
          },
          "metadata": {},
          "execution_count": 8
        }
      ]
    },
    {
      "cell_type": "code",
      "metadata": {
        "id": "kYiyWaESjsmL"
      },
      "source": [
        "# define likelihood function\n",
        "def MLERegression(params):\n",
        " intercept, beta, sd = params[0], params[1], params[2] # inputs are guesses at our parameters\n",
        " yhat = intercept + beta*x # predictions\n",
        "# next, we flip the Bayesian question\n",
        "# compute PDF of observed values normally distributed around mean (yhat)\n",
        "# with a standard deviation of sd\n",
        " negLL = -np.sum( stats.norm.logpdf(y, loc=yhat, scale=sd) )\n",
        "# return negative LL\n",
        " return(negLL)"
      ],
      "execution_count": 10,
      "outputs": []
    },
    {
      "cell_type": "code",
      "metadata": {
        "colab": {
          "base_uri": "https://localhost:8080/"
        },
        "id": "bYfQw75tjwj5",
        "outputId": "c9d18b4e-ac5c-4f55-e2c2-17abab95a96a"
      },
      "source": [
        "# let’s start with some random coefficient guesses and optimize\n",
        "guess = np.array([5,5,2])\n",
        "results = minimize(MLERegression, guess, method = 'Nelder-Mead', \n",
        " options={'disp': True})"
      ],
      "execution_count": 16,
      "outputs": [
        {
          "output_type": "stream",
          "name": "stdout",
          "text": [
            "Optimization terminated successfully.\n",
            "         Current function value: 305.274984\n",
            "         Iterations: 110\n",
            "         Function evaluations: 192\n"
          ]
        }
      ]
    },
    {
      "cell_type": "code",
      "metadata": {
        "colab": {
          "base_uri": "https://localhost:8080/",
          "height": 112
        },
        "id": "qRlXLPAekA9I",
        "outputId": "677914dd-5473-497e-ef78-7c28a7c5a28a"
      },
      "source": [
        "resultsdf = pd.DataFrame({'coef':results['x']})\n",
        "resultsdf.index=['constant','x','sigma']   \n",
        "np.round(resultsdf.head(2), 4)"
      ],
      "execution_count": 17,
      "outputs": [
        {
          "output_type": "execute_result",
          "data": {
            "text/html": [
              "<div>\n",
              "<style scoped>\n",
              "    .dataframe tbody tr th:only-of-type {\n",
              "        vertical-align: middle;\n",
              "    }\n",
              "\n",
              "    .dataframe tbody tr th {\n",
              "        vertical-align: top;\n",
              "    }\n",
              "\n",
              "    .dataframe thead th {\n",
              "        text-align: right;\n",
              "    }\n",
              "</style>\n",
              "<table border=\"1\" class=\"dataframe\">\n",
              "  <thead>\n",
              "    <tr style=\"text-align: right;\">\n",
              "      <th></th>\n",
              "      <th>coef</th>\n",
              "    </tr>\n",
              "  </thead>\n",
              "  <tbody>\n",
              "    <tr>\n",
              "      <th>constant</th>\n",
              "      <td>-0.8198</td>\n",
              "    </tr>\n",
              "    <tr>\n",
              "      <th>x</th>\n",
              "      <td>3.0245</td>\n",
              "    </tr>\n",
              "  </tbody>\n",
              "</table>\n",
              "</div>"
            ],
            "text/plain": [
              "            coef\n",
              "constant -0.8198\n",
              "x         3.0245"
            ]
          },
          "metadata": {},
          "execution_count": 17
        }
      ]
    }
  ]
}