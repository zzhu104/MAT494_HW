{
  "nbformat": 4,
  "nbformat_minor": 0,
  "metadata": {
    "colab": {
      "name": "Untitled1.ipynb",
      "provenance": [],
      "authorship_tag": "ABX9TyNLJy/Xml3fSeiMxYRHJUKZ",
      "include_colab_link": true
    },
    "kernelspec": {
      "name": "python3",
      "display_name": "Python 3"
    },
    "language_info": {
      "name": "python"
    }
  },
  "cells": [
    {
      "cell_type": "markdown",
      "metadata": {
        "id": "view-in-github",
        "colab_type": "text"
      },
      "source": [
        "<a href=\"https://colab.research.google.com/github/zzhu104/MAT494_HW/blob/main/HW1.2.ipynb\" target=\"_parent\"><img src=\"https://colab.research.google.com/assets/colab-badge.svg\" alt=\"Open In Colab\"/></a>"
      ]
    },
    {
      "cell_type": "markdown",
      "metadata": {
        "id": "z3PPTAC8N73P"
      },
      "source": [
        "HW1.2"
      ]
    },
    {
      "cell_type": "code",
      "metadata": {
        "colab": {
          "base_uri": "https://localhost:8080/"
        },
        "id": "3tm84Tk9LOO5",
        "outputId": "fb06c938-9bcd-44d2-dc64-4eb406b7c0b2"
      },
      "source": [
        "import numpy as np\n",
        "a = np.arange(10)\n",
        "print(a)"
      ],
      "execution_count": 1,
      "outputs": [
        {
          "output_type": "stream",
          "text": [
            "[0 1 2 3 4 5 6 7 8 9]\n"
          ],
          "name": "stdout"
        }
      ]
    },
    {
      "cell_type": "code",
      "metadata": {
        "colab": {
          "base_uri": "https://localhost:8080/"
        },
        "id": "DGwuZwDpNy1H",
        "outputId": "9b8cc8e8-20fd-4384-8a71-f8a8536bff0d"
      },
      "source": [
        "a = np.zeros(10)\n",
        "b = np.ones(10)\n",
        "c = np.zeros(10) + 5\n",
        "print(a)\n",
        "print(b)\n",
        "print(c)"
      ],
      "execution_count": 2,
      "outputs": [
        {
          "output_type": "stream",
          "text": [
            "[0. 0. 0. 0. 0. 0. 0. 0. 0. 0.]\n",
            "[1. 1. 1. 1. 1. 1. 1. 1. 1. 1.]\n",
            "[5. 5. 5. 5. 5. 5. 5. 5. 5. 5.]\n"
          ],
          "name": "stdout"
        }
      ]
    },
    {
      "cell_type": "code",
      "metadata": {
        "colab": {
          "base_uri": "https://localhost:8080/"
        },
        "id": "AqmG-XMdOCF9",
        "outputId": "dfca7afd-87bd-491c-b81c-05bfd0ed123a"
      },
      "source": [
        "# use random numbers to populate an array\n",
        "a = np.random.rand(10)\n",
        "print(a)"
      ],
      "execution_count": 3,
      "outputs": [
        {
          "output_type": "stream",
          "text": [
            "[0.67426143 0.01935157 0.45569443 0.49954931 0.75727566 0.91363395\n",
            " 0.42511745 0.53034519 0.4622107  0.54907455]\n"
          ],
          "name": "stdout"
        }
      ]
    },
    {
      "cell_type": "code",
      "metadata": {
        "colab": {
          "base_uri": "https://localhost:8080/"
        },
        "id": "E2FfqfcxOGLb",
        "outputId": "d3d585d4-635d-4d78-be3b-00a2b019c2b1"
      },
      "source": [
        "# index\n",
        "a = np.arange(10)\n",
        "print(a)\n",
        "print(a[-1])\n",
        "print(a[1:3])\n",
        "print(a[1:5:2])"
      ],
      "execution_count": 4,
      "outputs": [
        {
          "output_type": "stream",
          "text": [
            "[0 1 2 3 4 5 6 7 8 9]\n",
            "9\n",
            "[1 2]\n",
            "[1 3]\n"
          ],
          "name": "stdout"
        }
      ]
    },
    {
      "cell_type": "code",
      "metadata": {
        "colab": {
          "base_uri": "https://localhost:8080/"
        },
        "id": "CMn0HNaMOH_O",
        "outputId": "4521d64d-d730-438a-e706-d59ce538055d"
      },
      "source": [
        "a = np.zeros((3, 5))\n",
        "# note the extra bracket you need for calling np.zeros\n",
        "print(a, '\\n')\n",
        "\n",
        "# shape of the array\n",
        "print('len =',len(a))\n",
        "print('shape =',a.shape)"
      ],
      "execution_count": 5,
      "outputs": [
        {
          "output_type": "stream",
          "text": [
            "[[0. 0. 0. 0. 0.]\n",
            " [0. 0. 0. 0. 0.]\n",
            " [0. 0. 0. 0. 0.]] \n",
            "\n",
            "len = 3\n",
            "shape = (3, 5)\n"
          ],
          "name": "stdout"
        }
      ]
    },
    {
      "cell_type": "code",
      "metadata": {
        "colab": {
          "base_uri": "https://localhost:8080/"
        },
        "id": "4AcY_ei4ONKf",
        "outputId": "48370cb0-7c8c-4abf-824a-229232d1c2d1"
      },
      "source": [
        "# pick two output valuables from a method\n",
        "a = np.zeros((3,5))\n",
        "nx,ny = a.shape\n",
        "print('nx =', nx)\n",
        "print('ny =', ny)"
      ],
      "execution_count": 6,
      "outputs": [
        {
          "output_type": "stream",
          "text": [
            "nx = 3\n",
            "ny = 5\n"
          ],
          "name": "stdout"
        }
      ]
    },
    {
      "cell_type": "code",
      "metadata": {
        "colab": {
          "base_uri": "https://localhost:8080/"
        },
        "id": "cjDwH-x4OQJP",
        "outputId": "ae59611c-b576-41e0-f4de-ec5a6afc84a0"
      },
      "source": [
        "# ways to generate a constant array\n",
        "\n",
        "a = np.zeros((3,5)) + 7\n",
        "print(a, '\\n')\n",
        "\n",
        "b = np.ones((3,5)) * 7\n",
        "print(b, '\\n')\n",
        "\n",
        "c = np.full((3,5), 7)\n",
        "print(c)"
      ],
      "execution_count": 7,
      "outputs": [
        {
          "output_type": "stream",
          "text": [
            "[[7. 7. 7. 7. 7.]\n",
            " [7. 7. 7. 7. 7.]\n",
            " [7. 7. 7. 7. 7.]] \n",
            "\n",
            "[[7. 7. 7. 7. 7.]\n",
            " [7. 7. 7. 7. 7.]\n",
            " [7. 7. 7. 7. 7.]] \n",
            "\n",
            "[[7 7 7 7 7]\n",
            " [7 7 7 7 7]\n",
            " [7 7 7 7 7]]\n"
          ],
          "name": "stdout"
        }
      ]
    },
    {
      "cell_type": "code",
      "metadata": {
        "colab": {
          "base_uri": "https://localhost:8080/"
        },
        "id": "Bz41ajCzOTGV",
        "outputId": "65f0eccb-660b-40db-9053-a3fc023961db"
      },
      "source": [
        "# identity matrix function eye()\n",
        "a = np.eye(5)\n",
        "print(a)"
      ],
      "execution_count": 8,
      "outputs": [
        {
          "output_type": "stream",
          "text": [
            "[[1. 0. 0. 0. 0.]\n",
            " [0. 1. 0. 0. 0.]\n",
            " [0. 0. 1. 0. 0.]\n",
            " [0. 0. 0. 1. 0.]\n",
            " [0. 0. 0. 0. 1.]]\n"
          ],
          "name": "stdout"
        }
      ]
    },
    {
      "cell_type": "code",
      "metadata": {
        "colab": {
          "base_uri": "https://localhost:8080/"
        },
        "id": "Sua5Xr9bOVuj",
        "outputId": "10d96af3-c1ba-47d6-8036-edb9aca549d3"
      },
      "source": [
        "# index\n",
        "a = np.array(([1,2], [3,4], [5,6]))\n",
        "print(a)"
      ],
      "execution_count": 9,
      "outputs": [
        {
          "output_type": "stream",
          "text": [
            "[[1 2]\n",
            " [3 4]\n",
            " [5 6]]\n"
          ],
          "name": "stdout"
        }
      ]
    },
    {
      "cell_type": "code",
      "metadata": {
        "colab": {
          "base_uri": "https://localhost:8080/"
        },
        "id": "j4m9cGqHOYLg",
        "outputId": "49fe7563-05da-4217-fb04-f2013aa595b8"
      },
      "source": [
        "# slice index\n",
        "a = np.array([[1,2,3,4], [5,6,7,8], [9,10,11,12]])\n",
        "print(a)\n",
        "b = a[:2, 1:3]\n",
        "print(b)"
      ],
      "execution_count": 10,
      "outputs": [
        {
          "output_type": "stream",
          "text": [
            "[[ 1  2  3  4]\n",
            " [ 5  6  7  8]\n",
            " [ 9 10 11 12]]\n",
            "[[2 3]\n",
            " [6 7]]\n"
          ],
          "name": "stdout"
        }
      ]
    },
    {
      "cell_type": "code",
      "metadata": {
        "colab": {
          "base_uri": "https://localhost:8080/"
        },
        "id": "fD7q9tunOabg",
        "outputId": "a3bb5039-107c-42a2-e713-cf40cb030589"
      },
      "source": [
        "# mix integer and slice index\n",
        "a = np.array([[1,2,3,4], [5,6,7,8], [9,10,11,12]])\n",
        "print(a)\n",
        "b = a[1, :]\n",
        "print(b)"
      ],
      "execution_count": 11,
      "outputs": [
        {
          "output_type": "stream",
          "text": [
            "[[ 1  2  3  4]\n",
            " [ 5  6  7  8]\n",
            " [ 9 10 11 12]]\n",
            "[5 6 7 8]\n"
          ],
          "name": "stdout"
        }
      ]
    },
    {
      "cell_type": "code",
      "metadata": {
        "colab": {
          "base_uri": "https://localhost:8080/"
        },
        "id": "dlh3X1toOcZa",
        "outputId": "ceee4cd8-29c2-4b95-aab7-4f1c13f24e4b"
      },
      "source": [
        "# use two list as index\n",
        "a = np.array([[1,2,3,4], [5,6,7,8], [9,10,11,12]])\n",
        "print(a, '\\n')\n",
        "print(a[[0,1,2],[2,1,2]])"
      ],
      "execution_count": 12,
      "outputs": [
        {
          "output_type": "stream",
          "text": [
            "[[ 1  2  3  4]\n",
            " [ 5  6  7  8]\n",
            " [ 9 10 11 12]] \n",
            "\n",
            "[ 3  6 11]\n"
          ],
          "name": "stdout"
        }
      ]
    },
    {
      "cell_type": "code",
      "metadata": {
        "colab": {
          "base_uri": "https://localhost:8080/"
        },
        "id": "6l_gnmihOejc",
        "outputId": "b0346a0d-fd22-4851-c9d5-6ae28d6c0577"
      },
      "source": [
        "# update values\n",
        "a = np.zeros((3,3))\n",
        "for i in range(3):\n",
        "    a[:,i] = i\n",
        "print('before\\n',a)\n",
        "\n",
        "a[1,:] += 10\n",
        "print('after\\n',a)"
      ],
      "execution_count": 13,
      "outputs": [
        {
          "output_type": "stream",
          "text": [
            "before\n",
            " [[0. 1. 2.]\n",
            " [0. 1. 2.]\n",
            " [0. 1. 2.]]\n",
            "after\n",
            " [[ 0.  1.  2.]\n",
            " [10. 11. 12.]\n",
            " [ 0.  1.  2.]]\n"
          ],
          "name": "stdout"
        }
      ]
    },
    {
      "cell_type": "code",
      "metadata": {
        "colab": {
          "base_uri": "https://localhost:8080/"
        },
        "id": "z3jWLPu4OgK7",
        "outputId": "93610ff3-e89f-41c7-dc63-44b363d7a9bc"
      },
      "source": [
        "\n",
        "a = np.zeros((3,3))\n",
        "for i in range(3):\n",
        "    a[:,i] = i\n",
        "print('before\\n',a)\n",
        "\n",
        "a[:,2] = 5.\n",
        "print('after\\n',a)"
      ],
      "execution_count": 14,
      "outputs": [
        {
          "output_type": "stream",
          "text": [
            "before\n",
            " [[0. 1. 2.]\n",
            " [0. 1. 2.]\n",
            " [0. 1. 2.]]\n",
            "after\n",
            " [[0. 1. 5.]\n",
            " [0. 1. 5.]\n",
            " [0. 1. 5.]]\n"
          ],
          "name": "stdout"
        }
      ]
    },
    {
      "cell_type": "code",
      "metadata": {
        "colab": {
          "base_uri": "https://localhost:8080/"
        },
        "id": "jekijgTgOjMh",
        "outputId": "c7c4be1d-6d9c-4d7c-e4a8-bf69b7448a84"
      },
      "source": [
        "\n",
        "# type of data in the array\n",
        "a=np.array(([1,1],[1,1]))\n",
        "print(a)\n",
        "print(a.dtype)"
      ],
      "execution_count": 15,
      "outputs": [
        {
          "output_type": "stream",
          "text": [
            "[[1 1]\n",
            " [1 1]]\n",
            "int64\n"
          ],
          "name": "stdout"
        }
      ]
    },
    {
      "cell_type": "code",
      "metadata": {
        "colab": {
          "base_uri": "https://localhost:8080/"
        },
        "id": "ueBFUbMYOl1Y",
        "outputId": "751c8ff2-7892-4b73-d5b8-1d553ed85958"
      },
      "source": [
        "a=np.array(([1.,1],[1,1]))\n",
        "print(a)\n",
        "print(a.dtype)"
      ],
      "execution_count": 16,
      "outputs": [
        {
          "output_type": "stream",
          "text": [
            "[[1. 1.]\n",
            " [1. 1.]]\n",
            "float64\n"
          ],
          "name": "stdout"
        }
      ]
    },
    {
      "cell_type": "code",
      "metadata": {
        "colab": {
          "base_uri": "https://localhost:8080/"
        },
        "id": "4XouzU2MOn0A",
        "outputId": "00e4e0e0-0a42-4380-be24-c4a6fe6a6f5b"
      },
      "source": [
        "\n",
        "a=np.array(([1.,1],[1,1]))>2\n",
        "print(a)\n",
        "print(a.dtype)"
      ],
      "execution_count": 17,
      "outputs": [
        {
          "output_type": "stream",
          "text": [
            "[[False False]\n",
            " [False False]]\n",
            "bool\n"
          ],
          "name": "stdout"
        }
      ]
    },
    {
      "cell_type": "code",
      "metadata": {
        "colab": {
          "base_uri": "https://localhost:8080/"
        },
        "id": "vGqbqnVNOpu1",
        "outputId": "dc91fd94-b239-4501-9029-35a59326ac89"
      },
      "source": [
        "a=np.array((['1','1'],['1','1']))\n",
        "print(a)\n",
        "print(a.dtype)"
      ],
      "execution_count": 18,
      "outputs": [
        {
          "output_type": "stream",
          "text": [
            "[['1' '1']\n",
            " ['1' '1']]\n",
            "<U1\n"
          ],
          "name": "stdout"
        }
      ]
    },
    {
      "cell_type": "code",
      "metadata": {
        "colab": {
          "base_uri": "https://localhost:8080/"
        },
        "id": "jtpYDi4JOsMl",
        "outputId": "f24ac0fe-4287-4be3-c2fd-a569acd5101c"
      },
      "source": [
        "a=np.array((['1','1'],['1','1']),dtype=float)\n",
        "print(a)\n",
        "print(a.dtype)"
      ],
      "execution_count": 19,
      "outputs": [
        {
          "output_type": "stream",
          "text": [
            "[[1. 1.]\n",
            " [1. 1.]]\n",
            "float64\n"
          ],
          "name": "stdout"
        }
      ]
    },
    {
      "cell_type": "markdown",
      "metadata": {
        "id": "R78WFvoeOx2X"
      },
      "source": [
        "Elementwise calculation using array"
      ]
    },
    {
      "cell_type": "markdown",
      "metadata": {
        "id": "3ORvKf8nQE8N"
      },
      "source": [
        "One array"
      ]
    },
    {
      "cell_type": "code",
      "metadata": {
        "colab": {
          "base_uri": "https://localhost:8080/"
        },
        "id": "o520qkRxOuwG",
        "outputId": "1ee7d628-6aad-4cc9-b169-6a4fd4aa321f"
      },
      "source": [
        "# most numpy functions can be applied directly to an array\n",
        "a = np.zeros((3,3))\n",
        "for i in range(3):\n",
        "    a[:,i] = i\n",
        "print(a)\n",
        "print(a >= 1)\n",
        "print(np.sqrt(a))"
      ],
      "execution_count": 20,
      "outputs": [
        {
          "output_type": "stream",
          "text": [
            "[[0. 1. 2.]\n",
            " [0. 1. 2.]\n",
            " [0. 1. 2.]]\n",
            "[[False  True  True]\n",
            " [False  True  True]\n",
            " [False  True  True]]\n",
            "[[0.         1.         1.41421356]\n",
            " [0.         1.         1.41421356]\n",
            " [0.         1.         1.41421356]]\n"
          ],
          "name": "stdout"
        }
      ]
    },
    {
      "cell_type": "markdown",
      "metadata": {
        "id": "br5LYVQIQDLy"
      },
      "source": [
        "Inversion"
      ]
    },
    {
      "cell_type": "code",
      "metadata": {
        "colab": {
          "base_uri": "https://localhost:8080/"
        },
        "id": "TvcHo637O17s",
        "outputId": "403b632f-2ab7-4e7b-c3ab-fa44c20a63ce"
      },
      "source": [
        "# inversion\n",
        "A = np.matrix([[1,0,0],\n",
        "               [0,1,0],\n",
        "               [0,0,1]])\n",
        "\n",
        "B = np.matrix([[3,1],\n",
        "               [1,3]])\n",
        "\n",
        "print(A, '\\n')\n",
        "print(np.trace(A), '\\n')\n",
        "print(np.invert(A), '\\n')\n",
        "\n",
        "print(B, '\\n')\n",
        "print(np.trace(B), '\\n')\n",
        "print(np.invert(B))"
      ],
      "execution_count": 21,
      "outputs": [
        {
          "output_type": "stream",
          "text": [
            "[[1 0 0]\n",
            " [0 1 0]\n",
            " [0 0 1]] \n",
            "\n",
            "3 \n",
            "\n",
            "[[-2 -1 -1]\n",
            " [-1 -2 -1]\n",
            " [-1 -1 -2]] \n",
            "\n",
            "[[3 1]\n",
            " [1 3]] \n",
            "\n",
            "6 \n",
            "\n",
            "[[-4 -2]\n",
            " [-2 -4]]\n"
          ],
          "name": "stdout"
        }
      ]
    },
    {
      "cell_type": "markdown",
      "metadata": {
        "id": "EAUtRMv2QCBW"
      },
      "source": [
        "Eigenvalues and eigenvectors of the square matrix"
      ]
    },
    {
      "cell_type": "code",
      "metadata": {
        "colab": {
          "base_uri": "https://localhost:8080/"
        },
        "id": "A4kv1IsRO4zP",
        "outputId": "18d7d1d2-2586-4195-b65e-48da815470f3"
      },
      "source": [
        "# numpy.linalg.eig(a)     Calculate the eigenvalues and eigenvectors of the square matrix.\n",
        "# numpy.linalg.eigvals(a) Calculate the eigenvalues of the square matrix.\n",
        "\n",
        "x = np.diag([1,2,3])\n",
        "print(np.linalg.eigvals(x))\n",
        "\n",
        "a, b = np.linalg.eig(x)\n",
        "print('eigenvalue：', a, '\\n')\n",
        "print('eigenvector：\\n', b, '\\n')\n",
        "\n",
        "\n",
        "# verify that the eigenvalues and eigenvectors are correct\n",
        "for i in range(3):       \n",
        "    if np.allclose(a[i] * b[:, i], np.dot(x, b[:, i])):\n",
        "        print('Correct')\n",
        "    else:\n",
        "        print('Wrong')"
      ],
      "execution_count": 22,
      "outputs": [
        {
          "output_type": "stream",
          "text": [
            "[1. 2. 3.]\n",
            "eigenvalue： [1. 2. 3.] \n",
            "\n",
            "eigenvector：\n",
            " [[1. 0. 0.]\n",
            " [0. 1. 0.]\n",
            " [0. 0. 1.]] \n",
            "\n",
            "Correct\n",
            "Correct\n",
            "Correct\n"
          ],
          "name": "stdout"
        }
      ]
    },
    {
      "cell_type": "markdown",
      "metadata": {
        "id": "HRUcTcUYQIQx"
      },
      "source": [
        "Two arrays"
      ]
    },
    {
      "cell_type": "code",
      "metadata": {
        "colab": {
          "base_uri": "https://localhost:8080/"
        },
        "id": "ADG6KsjqO8-X",
        "outputId": "1e67102f-38e2-442e-fde3-3f0e63e0110d"
      },
      "source": [
        "# two arrays\n",
        "a = np.zeros((3,3))\n",
        "b = np.zeros((3,3))\n",
        "for i in range(3):\n",
        "    a[:,i] = i\n",
        "    b[i,:] = i\n",
        "print('a=\\n', a)\n",
        "print('b=\\n', b)\n",
        "\n",
        "print('a+b=\\n', a + b)\n",
        "print('a*b=\\n', a * b)\n",
        "print('a/b=\\n', a / b) # notice the first row of the result"
      ],
      "execution_count": 23,
      "outputs": [
        {
          "output_type": "stream",
          "text": [
            "a=\n",
            " [[0. 1. 2.]\n",
            " [0. 1. 2.]\n",
            " [0. 1. 2.]]\n",
            "b=\n",
            " [[0. 0. 0.]\n",
            " [1. 1. 1.]\n",
            " [2. 2. 2.]]\n",
            "a+b=\n",
            " [[0. 1. 2.]\n",
            " [1. 2. 3.]\n",
            " [2. 3. 4.]]\n",
            "a*b=\n",
            " [[0. 0. 0.]\n",
            " [0. 1. 2.]\n",
            " [0. 2. 4.]]\n",
            "a/b=\n",
            " [[nan inf inf]\n",
            " [0.  1.  2. ]\n",
            " [0.  0.5 1. ]]\n"
          ],
          "name": "stdout"
        },
        {
          "output_type": "stream",
          "text": [
            "/usr/local/lib/python3.7/dist-packages/ipykernel_launcher.py:12: RuntimeWarning: divide by zero encountered in true_divide\n",
            "  if sys.path[0] == '':\n",
            "/usr/local/lib/python3.7/dist-packages/ipykernel_launcher.py:12: RuntimeWarning: invalid value encountered in true_divide\n",
            "  if sys.path[0] == '':\n"
          ],
          "name": "stderr"
        }
      ]
    },
    {
      "cell_type": "code",
      "metadata": {
        "colab": {
          "base_uri": "https://localhost:8080/"
        },
        "id": "o62NtMVwO_Ja",
        "outputId": "a7ce7c1a-0253-4976-ca72-4811d823d079"
      },
      "source": [
        "# broadcasting\n",
        "# add the vector v to each row of the matrix x,\n",
        "# storing the result in the matrix y\n",
        "\n",
        "x = np.array([[1,2,3], [4,5,6], [7,8,9], [10, 11, 12]])\n",
        "v = np.array([2, 0, 1])\n",
        "y = x + v\n",
        "z = x * v\n",
        "print(y, '\\n')\n",
        "print(z)"
      ],
      "execution_count": 24,
      "outputs": [
        {
          "output_type": "stream",
          "text": [
            "[[ 3  2  4]\n",
            " [ 6  5  7]\n",
            " [ 9  8 10]\n",
            " [12 11 13]] \n",
            "\n",
            "[[ 2  0  3]\n",
            " [ 8  0  6]\n",
            " [14  0  9]\n",
            " [20  0 12]]\n"
          ],
          "name": "stdout"
        }
      ]
    },
    {
      "cell_type": "code",
      "metadata": {
        "colab": {
          "base_uri": "https://localhost:8080/"
        },
        "id": "k9_mUY3tPBN_",
        "outputId": "b71c8ef2-962c-41fe-f0e2-aa126ba6c3e9"
      },
      "source": [
        "# dot product\n",
        "x = np.array([1,2,3,4,5])\n",
        "y = np.array([2,3,4,5,6])\n",
        "z = np.dot(x,y)  #  The dot product of two vectors\n",
        "print(z)\n",
        "\n",
        "x = np.array([[1,2,3],[3,4,5],[6,7,8]])\n",
        "y = np.array([[5,4,2],[1,7,9],[0,4,5]])\n",
        "z= np.dot(x,y)   #  matrix multiplication\n",
        "print(z)"
      ],
      "execution_count": 25,
      "outputs": [
        {
          "output_type": "stream",
          "text": [
            "70\n",
            "[[  7  30  35]\n",
            " [ 19  60  67]\n",
            " [ 37 105 115]]\n"
          ],
          "name": "stdout"
        }
      ]
    },
    {
      "cell_type": "code",
      "metadata": {
        "colab": {
          "base_uri": "https://localhost:8080/"
        },
        "id": "DERk7Dn1PDMb",
        "outputId": "950311d0-88ee-4189-dfa9-84df244b7b43"
      },
      "source": [
        "a = np.array([1,2])\n",
        "b = np.array([3,4]) \n",
        "c = np.array([[3],[4]])\n",
        "\n",
        "print(b*a) \n",
        "print(a*c)  #  A matrix multiplies its elements, so it satisfies the commutative law\n",
        "print(c*a)\n",
        "\n",
        "print(np.dot(a,b))    #  matrix multiplication\n",
        "print(np.dot(a,c))\n",
        "#print(np.dot(c,a)) There will be an error"
      ],
      "execution_count": 26,
      "outputs": [
        {
          "output_type": "stream",
          "text": [
            "[3 8]\n",
            "[[3 6]\n",
            " [4 8]]\n",
            "[[3 6]\n",
            " [4 8]]\n",
            "11\n",
            "[11]\n"
          ],
          "name": "stdout"
        }
      ]
    },
    {
      "cell_type": "code",
      "metadata": {
        "colab": {
          "base_uri": "https://localhost:8080/"
        },
        "id": "7XFcTk8NPFi4",
        "outputId": "ca299ef9-4e49-425d-8f4d-624666f2bb36"
      },
      "source": [
        "# cross product\n",
        "a = [1,2,3]\n",
        "b = [2,3,4]\n",
        "\n",
        "c = np.cross(a,b)\n",
        "print(c)"
      ],
      "execution_count": 27,
      "outputs": [
        {
          "output_type": "stream",
          "text": [
            "[-1  2 -1]\n"
          ],
          "name": "stdout"
        }
      ]
    },
    {
      "cell_type": "code",
      "metadata": {
        "colab": {
          "base_uri": "https://localhost:8080/"
        },
        "id": "_Y3xjVazPHpg",
        "outputId": "0c318de1-f632-4b10-ce52-5af25c26c331"
      },
      "source": [
        "# matrix multiplication\n",
        "a = np.array([[1,2], [3,4]])\n",
        "b = np.array([[2,3], [4,5]])\n",
        "\n",
        "c = np.matmul(a,b)\n",
        "print(c)"
      ],
      "execution_count": 28,
      "outputs": [
        {
          "output_type": "stream",
          "text": [
            "[[10 13]\n",
            " [22 29]]\n"
          ],
          "name": "stdout"
        }
      ]
    },
    {
      "cell_type": "markdown",
      "metadata": {
        "id": "YyUNTr4gQMhQ"
      },
      "source": [
        "Reshape array"
      ]
    },
    {
      "cell_type": "code",
      "metadata": {
        "colab": {
          "base_uri": "https://localhost:8080/"
        },
        "id": "aafm6qVLPJ_x",
        "outputId": "13b6c8d4-9a79-421d-98cf-76a53327e4f7"
      },
      "source": [
        "# transpose\n",
        "a = np.array(([1,2], [3,4],[ 5,6]))\n",
        "print('a=\\n',a)\n",
        "print('a.T=\\n',a.T)\n",
        "print('a.transpose()=\\n',a.transpose())"
      ],
      "execution_count": 29,
      "outputs": [
        {
          "output_type": "stream",
          "text": [
            "a=\n",
            " [[1 2]\n",
            " [3 4]\n",
            " [5 6]]\n",
            "a.T=\n",
            " [[1 3 5]\n",
            " [2 4 6]]\n",
            "a.transpose()=\n",
            " [[1 3 5]\n",
            " [2 4 6]]\n"
          ],
          "name": "stdout"
        }
      ]
    },
    {
      "cell_type": "code",
      "metadata": {
        "colab": {
          "base_uri": "https://localhost:8080/"
        },
        "id": "q30dMs0tPNXU",
        "outputId": "0f403f24-eafc-47e9-c790-a23eec83b965"
      },
      "source": [
        "# reshape\n",
        "a = np.array(([1,2], [3,4], [5,6]))\n",
        "print('a\\n', a)\n",
        "\n",
        "b = a.reshape((2,3))\n",
        "print('b\\n', b)\n",
        "\n",
        "c = a.flatten()\n",
        "print('c\\n', c)\n",
        "\n",
        "# C order, row order\n",
        "d = a.flatten(order = 'C')\n",
        "print('d\\n', d)\n",
        "\n",
        "# Fortran order, column order\n",
        "e = a.flatten(order = 'F')\n",
        "print('e\\n', e)"
      ],
      "execution_count": 30,
      "outputs": [
        {
          "output_type": "stream",
          "text": [
            "a\n",
            " [[1 2]\n",
            " [3 4]\n",
            " [5 6]]\n",
            "b\n",
            " [[1 2 3]\n",
            " [4 5 6]]\n",
            "c\n",
            " [1 2 3 4 5 6]\n",
            "d\n",
            " [1 2 3 4 5 6]\n",
            "e\n",
            " [1 3 5 2 4 6]\n"
          ],
          "name": "stdout"
        }
      ]
    },
    {
      "cell_type": "code",
      "metadata": {
        "colab": {
          "base_uri": "https://localhost:8080/"
        },
        "id": "sKg7xExEPOQo",
        "outputId": "32927cd8-16d6-4f09-c5f6-6adc88d47aed"
      },
      "source": [
        "# stacking\n",
        "a=np.full((3,2),1.)\n",
        "b=np.full((3,2),2.)\n",
        "c=np.full((3,2),3.)\n",
        "\n",
        "print('a=',a)\n",
        "print('b=',b)\n",
        "print('c=',c)\n",
        "\n",
        "print('hstack=',np.hstack((a,b,c)))\n",
        "print('vstack=',np.vstack((a,b,c)))"
      ],
      "execution_count": 31,
      "outputs": [
        {
          "output_type": "stream",
          "text": [
            "a= [[1. 1.]\n",
            " [1. 1.]\n",
            " [1. 1.]]\n",
            "b= [[2. 2.]\n",
            " [2. 2.]\n",
            " [2. 2.]]\n",
            "c= [[3. 3.]\n",
            " [3. 3.]\n",
            " [3. 3.]]\n",
            "hstack= [[1. 1. 2. 2. 3. 3.]\n",
            " [1. 1. 2. 2. 3. 3.]\n",
            " [1. 1. 2. 2. 3. 3.]]\n",
            "vstack= [[1. 1.]\n",
            " [1. 1.]\n",
            " [1. 1.]\n",
            " [2. 2.]\n",
            " [2. 2.]\n",
            " [2. 2.]\n",
            " [3. 3.]\n",
            " [3. 3.]\n",
            " [3. 3.]]\n"
          ],
          "name": "stdout"
        }
      ]
    },
    {
      "cell_type": "markdown",
      "metadata": {
        "id": "7MVApULVQRBQ"
      },
      "source": [
        "Large array"
      ]
    },
    {
      "cell_type": "code",
      "metadata": {
        "colab": {
          "base_uri": "https://localhost:8080/"
        },
        "id": "Ij0h-3adPQP_",
        "outputId": "5b88fded-c8e9-48c0-ad58-1c0c12d89811"
      },
      "source": [
        "# difference of python sum and numpy.sum\n",
        "\n",
        "data = np.arange(1000)\n",
        "\n",
        "%timeit sum(data)\n",
        "%timeit np.sum(data)"
      ],
      "execution_count": 32,
      "outputs": [
        {
          "output_type": "stream",
          "text": [
            "10000 loops, best of 5: 174 µs per loop\n",
            "The slowest run took 15.11 times longer than the fastest. This could mean that an intermediate result is being cached.\n",
            "100000 loops, best of 5: 5.17 µs per loop\n"
          ],
          "name": "stdout"
        }
      ]
    },
    {
      "cell_type": "code",
      "metadata": {
        "colab": {
          "base_uri": "https://localhost:8080/"
        },
        "id": "0IlYxOhJPSwd",
        "outputId": "711c5d59-9fce-4439-eba1-95d6de0a20f2"
      },
      "source": [
        "data = []\n",
        "for i in range(1000):\n",
        "    data.append(i)\n",
        "\n",
        "%timeit sum(data)\n",
        "%timeit np.sum(data)"
      ],
      "execution_count": 33,
      "outputs": [
        {
          "output_type": "stream",
          "text": [
            "100000 loops, best of 5: 6.58 µs per loop\n",
            "10000 loops, best of 5: 101 µs per loop\n"
          ],
          "name": "stdout"
        }
      ]
    },
    {
      "cell_type": "markdown",
      "metadata": {
        "id": "iqqTG6zhPZ2Z"
      },
      "source": [
        "Solving problems"
      ]
    },
    {
      "cell_type": "markdown",
      "metadata": {
        "id": "KTnpDEFvQUSr"
      },
      "source": [
        "Polynomial"
      ]
    },
    {
      "cell_type": "code",
      "metadata": {
        "colab": {
          "base_uri": "https://localhost:8080/"
        },
        "id": "wah8W1bMPXPF",
        "outputId": "56d3b67b-efc5-4e72-a9e6-56109436467f"
      },
      "source": [
        "a = np.array([[8, -6, 2], [-4, 11, -7], [4, -7, 6]])\n",
        "b = np.array([[28], [-40], [33]])\n",
        "x = np.linalg.solve(a, b)\n",
        "print(a)\n",
        "print(x)"
      ],
      "execution_count": 34,
      "outputs": [
        {
          "output_type": "stream",
          "text": [
            "[[ 8 -6  2]\n",
            " [-4 11 -7]\n",
            " [ 4 -7  6]]\n",
            "[[ 2.]\n",
            " [-1.]\n",
            " [ 3.]]\n"
          ],
          "name": "stdout"
        }
      ]
    },
    {
      "cell_type": "code",
      "metadata": {
        "colab": {
          "base_uri": "https://localhost:8080/"
        },
        "id": "fKaKHcjCPduf",
        "outputId": "b2c7bfe2-0c0a-43ce-d267-89572e1a3ccb"
      },
      "source": [
        "m = np.array([[1, -2, 1],[0, 2, -8],[-4, 5, 9]])\n",
        "v = np.array([0, 8, -9])\n",
        "r = np.linalg.solve(m, v)\n",
        "print('result：')\n",
        "name = ['X1', 'X2', 'X3']\n",
        "for i in range(len(name)):\n",
        "    print(name[i] + '=' + str(r[i]))"
      ],
      "execution_count": 35,
      "outputs": [
        {
          "output_type": "stream",
          "text": [
            "result：\n",
            "X1=29.0\n",
            "X2=16.0\n",
            "X3=3.0\n"
          ],
          "name": "stdout"
        }
      ]
    },
    {
      "cell_type": "code",
      "metadata": {
        "colab": {
          "base_uri": "https://localhost:8080/"
        },
        "id": "ZTut-xWJPfwj",
        "outputId": "ff037a8a-232f-4048-f2a9-919a45baafda"
      },
      "source": [
        "mat = np.vstack([[1,1,1],[1,-1,2],[2,0,3]])\n",
        "sol = np.vstack([3,2,1])\n",
        "try:\n",
        "    npl.solve(mat,sol)\n",
        "except:\n",
        "    print(np.hstack([mat,sol]))\n",
        "    print('Not solveable. Adding rows 1 and 2 contradicts row 3.')"
      ],
      "execution_count": 36,
      "outputs": [
        {
          "output_type": "stream",
          "text": [
            "[[ 1  1  1  3]\n",
            " [ 1 -1  2  2]\n",
            " [ 2  0  3  1]]\n",
            "Not solveable. Adding rows 1 and 2 contradicts row 3.\n"
          ],
          "name": "stdout"
        }
      ]
    },
    {
      "cell_type": "markdown",
      "metadata": {
        "id": "hpCtzqyJQXUS"
      },
      "source": [
        "Determine whether the matrix is positive and definite"
      ]
    },
    {
      "cell_type": "code",
      "metadata": {
        "colab": {
          "base_uri": "https://localhost:8080/"
        },
        "id": "3ZR_UNk8PiAz",
        "outputId": "a427e372-e5dc-42e0-a466-e92b88c07c40"
      },
      "source": [
        "# (whether all eigenvalues are positive)\n",
        "A = np.arange(16).reshape(4,4)\n",
        "print(A)\n",
        "\n",
        "A = A + A.T  # Convert square matrices to symmetric matrices\n",
        "print(A)\n",
        "\n",
        "B = np.linalg.eigvals(A)\n",
        "print(B)\n",
        "\n",
        "if np.all(B>0):\n",
        "    print('Yes')\n",
        "else:\n",
        "    print('No')"
      ],
      "execution_count": 37,
      "outputs": [
        {
          "output_type": "stream",
          "text": [
            "[[ 0  1  2  3]\n",
            " [ 4  5  6  7]\n",
            " [ 8  9 10 11]\n",
            " [12 13 14 15]]\n",
            "[[ 0  5 10 15]\n",
            " [ 5 10 15 20]\n",
            " [10 15 20 25]\n",
            " [15 20 25 30]]\n",
            "[ 6.74165739e+01+0.00000000e+00j -7.41657387e+00+0.00000000e+00j\n",
            "  1.32429523e-15+2.79902006e-15j  1.32429523e-15-2.79902006e-15j]\n",
            "No\n"
          ],
          "name": "stdout"
        }
      ]
    },
    {
      "cell_type": "markdown",
      "metadata": {
        "id": "McbDfaToQaGG"
      },
      "source": [
        "QR decomposition"
      ]
    },
    {
      "cell_type": "code",
      "metadata": {
        "colab": {
          "base_uri": "https://localhost:8080/"
        },
        "id": "xnf_AXSPPm45",
        "outputId": "a198d837-25cb-4c71-bbc1-50644458f980"
      },
      "source": [
        "#coding:utf8\n",
        "\n",
        "def gram_schmidt(A):\n",
        "    \"\"\"Gram-schmidt Orthogonalization\"\"\"\n",
        "    Q=np.zeros_like(A)\n",
        "    cnt = 0\n",
        "    for a in A.T:\n",
        "        u = np.copy(a)\n",
        "        for i in range(0, cnt):\n",
        "            u -= np.dot(np.dot(Q[:, i].T, a), Q[:, i]) \n",
        "        e = u / np.linalg.norm(u)  # normalization \n",
        "        Q[:, cnt] = e\n",
        "        cnt += 1\n",
        "    R = np.dot(Q.T, A)\n",
        "    return (Q, R)\n",
        "\n",
        "np.set_printoptions(precision=4, suppress=True)\n",
        "A = np.array([[6, 5, 0],[5, -1, 4],[5, 1, -14],[0, 4, 3]], dtype = float)\n",
        "\n",
        "(Q, R) = gram_schmidt(A)\n",
        "print(Q)\n",
        "print(R)\n",
        "print(np.dot(Q, R))"
      ],
      "execution_count": 38,
      "outputs": [
        {
          "output_type": "stream",
          "text": [
            "[[ 0.647   0.5096  0.1799]\n",
            " [ 0.5392 -0.4811  0.5743]\n",
            " [ 0.5392 -0.1305 -0.7902]\n",
            " [ 0.      0.7013  0.1162]]\n",
            "[[ 9.2736  3.235  -5.3916]\n",
            " [ 0.      5.7039  2.006 ]\n",
            " [-0.      0.     13.7079]]\n",
            "[[  6.   5.   0.]\n",
            " [  5.  -1.   4.]\n",
            " [  5.   1. -14.]\n",
            " [  0.   4.   3.]]\n"
          ],
          "name": "stdout"
        }
      ]
    },
    {
      "cell_type": "code",
      "metadata": {
        "colab": {
          "base_uri": "https://localhost:8080/"
        },
        "id": "yZX_AVZjPnXu",
        "outputId": "f0462871-4020-4974-e257-658188aef883"
      },
      "source": [
        "def givens_rotation(A):\n",
        "    \"\"\"\"Givens Rotations\"\"\"\n",
        "    (r, c) = np.shape(A)\n",
        "    Q = np.identity(r)\n",
        "    R = np.copy(A)\n",
        "    (rows, cols) = np.tril_indices(r, -1, c)\n",
        "    for (row, col) in zip(rows, cols):\n",
        "        if R[row, col] != 0:  \n",
        "            r_ = np.hypot(R[col, col], R[row, col])  # d\n",
        "            c = R[col, col]/r_\n",
        "            s = -R[row, col]/r_\n",
        "            G = np.identity(r)\n",
        "            G[[col, row], [col, row]] = c\n",
        "            G[row, col] = s\n",
        "            G[col, row] = -s\n",
        "            R = np.dot(G, R)   # R=G(n-1,n)*...*G(2n)*...*G(23,1n)*...*G(12)*A\n",
        "            Q = np.dot(Q, G.T)  # Q=G(n-1,n).T*...*G(2n).T*...*G(23,1n).T*...*G(12).T\n",
        "    return (Q, R)\n",
        "\n",
        "np.set_printoptions(precision=4, suppress=True)\n",
        "A = np.array([[6, 5, 0],[5, -1, 4],[5, 1, -14],[0, 4, 3]], dtype = float)\n",
        "\n",
        "(Q, R) = givens_rotation(A)\n",
        "print(Q)\n",
        "print(R)\n",
        "print (np.dot(Q, R))"
      ],
      "execution_count": 39,
      "outputs": [
        {
          "output_type": "stream",
          "text": [
            "[[ 0.647   0.5096  0.1799 -0.5379]\n",
            " [ 0.5392 -0.4811  0.5743  0.3848]\n",
            " [ 0.5392 -0.1305 -0.7902  0.2607]\n",
            " [ 0.      0.7013  0.1162  0.7034]]\n",
            "[[ 9.2736  3.235  -5.3916]\n",
            " [ 0.      5.7039  2.006 ]\n",
            " [-0.      0.     13.7079]\n",
            " [-0.     -0.      0.    ]]\n",
            "[[  6.   5.   0.]\n",
            " [  5.  -1.   4.]\n",
            " [  5.   1. -14.]\n",
            " [  0.   4.   3.]]\n"
          ],
          "name": "stdout"
        }
      ]
    },
    {
      "cell_type": "code",
      "metadata": {
        "colab": {
          "base_uri": "https://localhost:8080/"
        },
        "id": "iMXBW7blPrrn",
        "outputId": "71ed9a56-8e75-4e4c-d477-a82e234698ce"
      },
      "source": [
        "def householder_reflection(A):\n",
        "    \"\"\"Householder Triangularization\"\"\"\n",
        "    (r, c) = np.shape(A)\n",
        "    Q = np.identity(r)\n",
        "    R = np.copy(A)\n",
        "    for cnt in range(r - 1):\n",
        "        x = R[cnt:, cnt]\n",
        "        e = np.zeros_like(x)\n",
        "        e[0] = np.linalg.norm(x)\n",
        "        u = x - e\n",
        "        v = u / np.linalg.norm(u)\n",
        "        Q_cnt = np.identity(r)\n",
        "        Q_cnt[cnt:, cnt:] -= 2.0 * np.outer(v, v)\n",
        "        R = np.dot(Q_cnt, R)  # R=H(n-1)*...*H(2)*H(1)*A\n",
        "        Q = np.dot(Q, Q_cnt)  # Q=H(n-1)*...*H(2)*H(1)  H is the self inverse matrix\n",
        "    return (Q, R)\n",
        "\n",
        "np.set_printoptions(precision=4, suppress=True)\n",
        "A = np.array([[6, 5, 0],[5, -1, 4],[5, 1, -14],[0, 4, 3]], dtype = float)\n",
        "\n",
        "(Q, R) = householder_reflection(A)\n",
        "print(Q)\n",
        "print(R)\n",
        "print(np.dot(Q, R))"
      ],
      "execution_count": 40,
      "outputs": [
        {
          "output_type": "stream",
          "text": [
            "[[ 0.647   0.5096  0.1799  0.5379]\n",
            " [ 0.5392 -0.4811  0.5743 -0.3848]\n",
            " [ 0.5392 -0.1305 -0.7902 -0.2607]\n",
            " [ 0.      0.7013  0.1162 -0.7034]]\n",
            "[[ 9.2736  3.235  -5.3916]\n",
            " [ 0.      5.7039  2.006 ]\n",
            " [-0.      0.     13.7079]\n",
            " [ 0.      0.      0.    ]]\n",
            "[[  6.   5.   0.]\n",
            " [  5.  -1.   4.]\n",
            " [  5.   1. -14.]\n",
            " [ -0.   4.   3.]]\n"
          ],
          "name": "stdout"
        }
      ]
    }
  ]
}