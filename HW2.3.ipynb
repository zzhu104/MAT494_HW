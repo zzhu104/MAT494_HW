{
  "nbformat": 4,
  "nbformat_minor": 0,
  "metadata": {
    "colab": {
      "name": "Untitled5.ipynb",
      "provenance": [],
      "authorship_tag": "ABX9TyMr5+siDy9cVTQA+o5lNyY5",
      "include_colab_link": true
    },
    "kernelspec": {
      "name": "python3",
      "display_name": "Python 3"
    },
    "language_info": {
      "name": "python"
    }
  },
  "cells": [
    {
      "cell_type": "markdown",
      "metadata": {
        "id": "view-in-github",
        "colab_type": "text"
      },
      "source": [
        "<a href=\"https://colab.research.google.com/github/zzhu104/MAT494_HW/blob/main/HW2.3.ipynb\" target=\"_parent\"><img src=\"https://colab.research.google.com/assets/colab-badge.svg\" alt=\"Open In Colab\"/></a>"
      ]
    },
    {
      "cell_type": "markdown",
      "metadata": {
        "id": "sJi_XDlTb6jd"
      },
      "source": [
        "2.3 An alpha continuous random variable."
      ]
    },
    {
      "cell_type": "markdown",
      "metadata": {
        "id": "dm84JXypk3eo"
      },
      "source": [
        "scipy.stats.alpha = <scipy.stats._continuous_distns.alpha_gen object>"
      ]
    },
    {
      "cell_type": "markdown",
      "metadata": {
        "id": "i3-zyWXicAn7"
      },
      "source": [
        "As an instance of the rv_continuous class, alpha object inherits from it a collection of generic methods (see below for the full list), and completes them with details specific for this particular distribution."
      ]
    },
    {
      "cell_type": "markdown",
      "metadata": {
        "id": "T0B5S3zDdW0j"
      },
      "source": [
        "https://docs.scipy.org/doc/scipy/reference/generated/scipy.stats.alpha.html#scipy.stats.alpha"
      ]
    },
    {
      "cell_type": "code",
      "metadata": {
        "id": "pzPuPUPkbcM4"
      },
      "source": [
        "# Python code to demonstrate scipy.alpha()\n",
        "from scipy.stats import alpha\n",
        "\n",
        "# using alpha() method\n",
        "numargs = alpha.numargs\n",
        "[ a ] = [0.6, ] * numargs\n",
        "rv = alpha(a)\n"
      ],
      "execution_count": 49,
      "outputs": []
    },
    {
      "cell_type": "code",
      "metadata": {
        "colab": {
          "base_uri": "https://localhost:8080/",
          "height": 265
        },
        "id": "1QQ87XeHl3Xw",
        "outputId": "6e944e80-c697-4bd1-bf67-8a77174eb126"
      },
      "source": [
        "# Python code to demonstrate scipy.alpha()\n",
        "import numpy as np\n",
        "import matplotlib.pyplot as plt\n",
        "\n",
        "# getting distribution using linspace()\n",
        "distribution = np.linspace(0, np.minimum(rv.dist.b, 3))\n",
        "plot = plt.plot(distribution, rv.pdf(distribution))\n"
      ],
      "execution_count": 50,
      "outputs": [
        {
          "output_type": "display_data",
          "data": {
            "image/png": "[encoded data removed]",
            "text/plain": [
              "<Figure size 432x288 with 1 Axes>"
            ]
          },
          "metadata": {
            "needs_background": "light"
          }
        }
      ]
    },
    {
      "cell_type": "code",
      "metadata": {
        "colab": {
          "base_uri": "https://localhost:8080/",
          "height": 269
        },
        "id": "KXI-l0i0mG64",
        "outputId": "0d86a666-5776-4451-bef7-60a1ff62a04d"
      },
      "source": [
        "from scipy.stats import alpha\n",
        "import matplotlib.pyplot as plt\n",
        "fig, ax = plt.subplots(1, 1)"
      ],
      "execution_count": 52,
      "outputs": [
        {
          "output_type": "display_data",
          "data": {
            "image/png": "[encoded data removed]",
            "text/plain": [
              "<Figure size 432x288 with 1 Axes>"
            ]
          },
          "metadata": {
            "needs_background": "light"
          }
        }
      ]
    },
    {
      "cell_type": "code",
      "metadata": {
        "id": "cva17GX0mIyc"
      },
      "source": [
        "a = 3.57\n",
        "mean, var, skew, kurt = alpha.stats(a, moments='mvsk')"
      ],
      "execution_count": 53,
      "outputs": []
    },
    {
      "cell_type": "code",
      "metadata": {
        "colab": {
          "base_uri": "https://localhost:8080/"
        },
        "id": "Y1I8GeM3mJ_m",
        "outputId": "3976cce2-7635-4da3-f617-938ce433a79f"
      },
      "source": [
        "x = np.linspace(alpha.ppf(0.01, a),\n",
        "                alpha.ppf(0.99, a), 100)\n",
        "ax.plot(x, alpha.pdf(x, a),\n",
        "       'r-', lw=5, alpha=0.6, label='alpha pdf')"
      ],
      "execution_count": 54,
      "outputs": [
        {
          "output_type": "execute_result",
          "data": {
            "text/plain": [
              "[<matplotlib.lines.Line2D at 0x7f4ae4ed2910>]"
            ]
          },
          "metadata": {},
          "execution_count": 54
        }
      ]
    },
    {
      "cell_type": "code",
      "metadata": {
        "colab": {
          "base_uri": "https://localhost:8080/"
        },
        "id": "7KWv_6GAmLeb",
        "outputId": "81f1e08c-0a04-4a1d-bff2-c4b75f27180b"
      },
      "source": [
        "rv = alpha(a)\n",
        "ax.plot(x, rv.pdf(x), 'k-', lw=2, label='frozen pdf')"
      ],
      "execution_count": 55,
      "outputs": [
        {
          "output_type": "execute_result",
          "data": {
            "text/plain": [
              "[<matplotlib.lines.Line2D at 0x7f4ae4eca590>]"
            ]
          },
          "metadata": {},
          "execution_count": 55
        }
      ]
    },
    {
      "cell_type": "code",
      "metadata": {
        "colab": {
          "base_uri": "https://localhost:8080/"
        },
        "id": "pslxdrPymNEc",
        "outputId": "4508d350-a6ac-492b-b160-730814ca3c3d"
      },
      "source": [
        "vals = alpha.ppf([0.001, 0.5, 0.999], a)\n",
        "np.allclose([0.001, 0.5, 0.999], alpha.cdf(vals, a))"
      ],
      "execution_count": 56,
      "outputs": [
        {
          "output_type": "execute_result",
          "data": {
            "text/plain": [
              "True"
            ]
          },
          "metadata": {},
          "execution_count": 56
        }
      ]
    },
    {
      "cell_type": "code",
      "metadata": {
        "id": "Gh-Du4aPmPJU"
      },
      "source": [
        "r = alpha.rvs(a, size=1000)"
      ],
      "execution_count": 57,
      "outputs": []
    },
    {
      "cell_type": "code",
      "metadata": {
        "id": "hxH3mK2tmQTy"
      },
      "source": [
        "ax.hist(r, density=True, histtype='stepfilled', alpha=0.2)\n",
        "ax.legend(loc='best', frameon=False)\n",
        "plt.show()"
      ],
      "execution_count": 58,
      "outputs": []
    }
  ]
}