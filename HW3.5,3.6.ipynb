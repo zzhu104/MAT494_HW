{
  "nbformat": 4,
  "nbformat_minor": 0,
  "metadata": {
    "colab": {
      "name": "Untitled10.ipynb",
      "provenance": [],
      "authorship_tag": "ABX9TyO7lc5LwmnPtoPBKp4C2D45",
      "include_colab_link": true
    },
    "kernelspec": {
      "name": "python3",
      "display_name": "Python 3"
    },
    "language_info": {
      "name": "python"
    },
    "widgets": {
      "application/vnd.jupyter.widget-state+json": {
        "f566ffa6883a48f8a973ddc68b9eabcd": {
          "model_module": "@jupyter-widgets/controls",
          "model_name": "VBoxModel",
          "model_module_version": "1.5.0",
          "state": {
            "_view_name": "VBoxView",
            "_dom_classes": [
              "widget-interact"
            ],
            "_model_name": "VBoxModel",
            "_view_module": "@jupyter-widgets/controls",
            "_model_module_version": "1.5.0",
            "_view_count": null,
            "_view_module_version": "1.5.0",
            "box_style": "",
            "layout": "IPY_MODEL_412656eac66a429eac3ea2897447938f",
            "_model_module": "@jupyter-widgets/controls",
            "children": [
              "IPY_MODEL_adcdcc4b24054016b0d4f749cf9028b5",
              "IPY_MODEL_54086d4908e44311a794fbb3d849d5bc",
              "IPY_MODEL_6d73e793c833499a95af761082535cb7",
              "IPY_MODEL_7ee12800bc184f24ac3dbd787ae2c11f",
              "IPY_MODEL_14adf1dbd4bb45bbba2b79d58ef5c5fb"
            ]
          }
        },
        "412656eac66a429eac3ea2897447938f": {
          "model_module": "@jupyter-widgets/base",
          "model_name": "LayoutModel",
          "model_module_version": "1.2.0",
          "state": {
            "_view_name": "LayoutView",
            "grid_template_rows": null,
            "right": null,
            "justify_content": null,
            "_view_module": "@jupyter-widgets/base",
            "overflow": null,
            "_model_module_version": "1.2.0",
            "_view_count": null,
            "flex_flow": null,
            "width": null,
            "min_width": null,
            "border": null,
            "align_items": null,
            "bottom": null,
            "_model_module": "@jupyter-widgets/base",
            "top": null,
            "grid_column": null,
            "overflow_y": null,
            "overflow_x": null,
            "grid_auto_flow": null,
            "grid_area": null,
            "grid_template_columns": null,
            "flex": null,
            "_model_name": "LayoutModel",
            "justify_items": null,
            "grid_row": null,
            "max_height": null,
            "align_content": null,
            "visibility": null,
            "align_self": null,
            "height": null,
            "min_height": null,
            "padding": null,
            "grid_auto_rows": null,
            "grid_gap": null,
            "max_width": null,
            "order": null,
            "_view_module_version": "1.2.0",
            "grid_template_areas": null,
            "object_position": null,
            "object_fit": null,
            "grid_auto_columns": null,
            "margin": null,
            "display": null,
            "left": null
          }
        },
        "adcdcc4b24054016b0d4f749cf9028b5": {
          "model_module": "@jupyter-widgets/controls",
          "model_name": "FloatLogSliderModel",
          "model_module_version": "1.5.0",
          "state": {
            "_view_name": "FloatLogSliderView",
            "orientation": "horizontal",
            "_view_module": "@jupyter-widgets/controls",
            "_model_module_version": "1.5.0",
            "_view_count": null,
            "disabled": false,
            "readout_format": ".3g",
            "_model_module": "@jupyter-widgets/controls",
            "style": "IPY_MODEL_2f7b9b206a904d7ab1dfe8705cfb1bc6",
            "layout": "IPY_MODEL_1946e96509064bada3da82fabbfb24e6",
            "min": -4,
            "continuous_update": false,
            "description_tooltip": null,
            "_dom_classes": [],
            "description": "C",
            "_model_name": "FloatLogSliderModel",
            "max": 4,
            "readout": true,
            "step": 0.5,
            "base": 10,
            "value": 1,
            "_view_module_version": "1.5.0"
          }
        },
        "54086d4908e44311a794fbb3d849d5bc": {
          "model_module": "@jupyter-widgets/controls",
          "model_name": "DropdownModel",
          "model_module_version": "1.5.0",
          "state": {
            "_options_labels": [
              "linear",
              "poly1",
              "poly2",
              "poly3",
              "poly4",
              "poly5",
              "poly6",
              "poly7",
              "poly8",
              "rbf"
            ],
            "_view_name": "DropdownView",
            "style": "IPY_MODEL_21486452f24447a38667905a64bee9b1",
            "_dom_classes": [],
            "description": "kernel",
            "_model_name": "DropdownModel",
            "index": 7,
            "_view_module": "@jupyter-widgets/controls",
            "_model_module_version": "1.5.0",
            "_view_count": null,
            "disabled": false,
            "_view_module_version": "1.5.0",
            "description_tooltip": null,
            "_model_module": "@jupyter-widgets/controls",
            "layout": "IPY_MODEL_d16ccfb085e546dbabacc2ad38eb5d3c"
          }
        },
        "6d73e793c833499a95af761082535cb7": {
          "model_module": "@jupyter-widgets/controls",
          "model_name": "FloatSliderModel",
          "model_module_version": "1.5.0",
          "state": {
            "_view_name": "FloatSliderView",
            "style": "IPY_MODEL_56b429f3f3784c32a6da9f2b5266e5bf",
            "_dom_classes": [],
            "description": "expand:",
            "step": 0.1,
            "_model_name": "FloatSliderModel",
            "orientation": "horizontal",
            "max": 10,
            "_view_module": "@jupyter-widgets/controls",
            "_model_module_version": "1.5.0",
            "value": 3.1,
            "_view_count": null,
            "disabled": false,
            "_view_module_version": "1.5.0",
            "min": 0,
            "continuous_update": false,
            "readout_format": ".2f",
            "description_tooltip": null,
            "readout": true,
            "_model_module": "@jupyter-widgets/controls",
            "layout": "IPY_MODEL_051d9668b7514a5da543a0db2731335f"
          }
        },
        "7ee12800bc184f24ac3dbd787ae2c11f": {
          "model_module": "@jupyter-widgets/controls",
          "model_name": "FloatSliderModel",
          "model_module_version": "1.5.0",
          "state": {
            "_view_name": "FloatSliderView",
            "style": "IPY_MODEL_cd90d5702ab14a83bf71a4db37b28442",
            "_dom_classes": [],
            "description": "contour intensity:",
            "step": 0.1,
            "_model_name": "FloatSliderModel",
            "orientation": "horizontal",
            "max": 0.9,
            "_view_module": "@jupyter-widgets/controls",
            "_model_module_version": "1.5.0",
            "value": 0.5,
            "_view_count": null,
            "disabled": false,
            "_view_module_version": "1.5.0",
            "min": 0.1,
            "continuous_update": false,
            "readout_format": ".2f",
            "description_tooltip": null,
            "readout": true,
            "_model_module": "@jupyter-widgets/controls",
            "layout": "IPY_MODEL_7d467577fc464bccb710c125d5373975"
          }
        },
        "14adf1dbd4bb45bbba2b79d58ef5c5fb": {
          "model_module": "@jupyter-widgets/output",
          "model_name": "OutputModel",
          "model_module_version": "1.0.0",
          "state": {
            "_view_name": "OutputView",
            "msg_id": "",
            "_dom_classes": [],
            "_model_name": "OutputModel",
            "outputs": [
              {
                "output_type": "display_data",
                "data": {
                  "image/png": "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\n",
                  "text/plain": "<Figure size 432x288 with 1 Axes>"
                },
                "metadata": {
                  "needs_background": "light"
                }
              }
            ],
            "_view_module": "@jupyter-widgets/output",
            "_model_module_version": "1.0.0",
            "_view_count": null,
            "_view_module_version": "1.0.0",
            "layout": "IPY_MODEL_81028de5937c4c17ab9010291c574bc0",
            "_model_module": "@jupyter-widgets/output"
          }
        },
        "2f7b9b206a904d7ab1dfe8705cfb1bc6": {
          "model_module": "@jupyter-widgets/controls",
          "model_name": "SliderStyleModel",
          "model_module_version": "1.5.0",
          "state": {
            "_view_name": "StyleView",
            "handle_color": null,
            "_model_name": "SliderStyleModel",
            "description_width": "",
            "_view_module": "@jupyter-widgets/base",
            "_model_module_version": "1.5.0",
            "_view_count": null,
            "_view_module_version": "1.2.0",
            "_model_module": "@jupyter-widgets/controls"
          }
        },
        "1946e96509064bada3da82fabbfb24e6": {
          "model_module": "@jupyter-widgets/base",
          "model_name": "LayoutModel",
          "model_module_version": "1.2.0",
          "state": {
            "_view_name": "LayoutView",
            "grid_template_rows": null,
            "right": null,
            "justify_content": null,
            "_view_module": "@jupyter-widgets/base",
            "overflow": null,
            "_model_module_version": "1.2.0",
            "_view_count": null,
            "flex_flow": null,
            "width": null,
            "min_width": null,
            "border": null,
            "align_items": null,
            "bottom": null,
            "_model_module": "@jupyter-widgets/base",
            "top": null,
            "grid_column": null,
            "overflow_y": null,
            "overflow_x": null,
            "grid_auto_flow": null,
            "grid_area": null,
            "grid_template_columns": null,
            "flex": null,
            "_model_name": "LayoutModel",
            "justify_items": null,
            "grid_row": null,
            "max_height": null,
            "align_content": null,
            "visibility": null,
            "align_self": null,
            "height": null,
            "min_height": null,
            "padding": null,
            "grid_auto_rows": null,
            "grid_gap": null,
            "max_width": null,
            "order": null,
            "_view_module_version": "1.2.0",
            "grid_template_areas": null,
            "object_position": null,
            "object_fit": null,
            "grid_auto_columns": null,
            "margin": null,
            "display": null,
            "left": null
          }
        },
        "21486452f24447a38667905a64bee9b1": {
          "model_module": "@jupyter-widgets/controls",
          "model_name": "DescriptionStyleModel",
          "model_module_version": "1.5.0",
          "state": {
            "_view_name": "StyleView",
            "_model_name": "DescriptionStyleModel",
            "description_width": "",
            "_view_module": "@jupyter-widgets/base",
            "_model_module_version": "1.5.0",
            "_view_count": null,
            "_view_module_version": "1.2.0",
            "_model_module": "@jupyter-widgets/controls"
          }
        },
        "d16ccfb085e546dbabacc2ad38eb5d3c": {
          "model_module": "@jupyter-widgets/base",
          "model_name": "LayoutModel",
          "model_module_version": "1.2.0",
          "state": {
            "_view_name": "LayoutView",
            "grid_template_rows": null,
            "right": null,
            "justify_content": null,
            "_view_module": "@jupyter-widgets/base",
            "overflow": null,
            "_model_module_version": "1.2.0",
            "_view_count": null,
            "flex_flow": null,
            "width": null,
            "min_width": null,
            "border": null,
            "align_items": null,
            "bottom": null,
            "_model_module": "@jupyter-widgets/base",
            "top": null,
            "grid_column": null,
            "overflow_y": null,
            "overflow_x": null,
            "grid_auto_flow": null,
            "grid_area": null,
            "grid_template_columns": null,
            "flex": null,
            "_model_name": "LayoutModel",
            "justify_items": null,
            "grid_row": null,
            "max_height": null,
            "align_content": null,
            "visibility": null,
            "align_self": null,
            "height": null,
            "min_height": null,
            "padding": null,
            "grid_auto_rows": null,
            "grid_gap": null,
            "max_width": null,
            "order": null,
            "_view_module_version": "1.2.0",
            "grid_template_areas": null,
            "object_position": null,
            "object_fit": null,
            "grid_auto_columns": null,
            "margin": null,
            "display": null,
            "left": null
          }
        },
        "56b429f3f3784c32a6da9f2b5266e5bf": {
          "model_module": "@jupyter-widgets/controls",
          "model_name": "SliderStyleModel",
          "model_module_version": "1.5.0",
          "state": {
            "_view_name": "StyleView",
            "handle_color": null,
            "_model_name": "SliderStyleModel",
            "description_width": "",
            "_view_module": "@jupyter-widgets/base",
            "_model_module_version": "1.5.0",
            "_view_count": null,
            "_view_module_version": "1.2.0",
            "_model_module": "@jupyter-widgets/controls"
          }
        },
        "051d9668b7514a5da543a0db2731335f": {
          "model_module": "@jupyter-widgets/base",
          "model_name": "LayoutModel",
          "model_module_version": "1.2.0",
          "state": {
            "_view_name": "LayoutView",
            "grid_template_rows": null,
            "right": null,
            "justify_content": null,
            "_view_module": "@jupyter-widgets/base",
            "overflow": null,
            "_model_module_version": "1.2.0",
            "_view_count": null,
            "flex_flow": null,
            "width": null,
            "min_width": null,
            "border": null,
            "align_items": null,
            "bottom": null,
            "_model_module": "@jupyter-widgets/base",
            "top": null,
            "grid_column": null,
            "overflow_y": null,
            "overflow_x": null,
            "grid_auto_flow": null,
            "grid_area": null,
            "grid_template_columns": null,
            "flex": null,
            "_model_name": "LayoutModel",
            "justify_items": null,
            "grid_row": null,
            "max_height": null,
            "align_content": null,
            "visibility": null,
            "align_self": null,
            "height": null,
            "min_height": null,
            "padding": null,
            "grid_auto_rows": null,
            "grid_gap": null,
            "max_width": null,
            "order": null,
            "_view_module_version": "1.2.0",
            "grid_template_areas": null,
            "object_position": null,
            "object_fit": null,
            "grid_auto_columns": null,
            "margin": null,
            "display": null,
            "left": null
          }
        },
        "cd90d5702ab14a83bf71a4db37b28442": {
          "model_module": "@jupyter-widgets/controls",
          "model_name": "SliderStyleModel",
          "model_module_version": "1.5.0",
          "state": {
            "_view_name": "StyleView",
            "handle_color": null,
            "_model_name": "SliderStyleModel",
            "description_width": "",
            "_view_module": "@jupyter-widgets/base",
            "_model_module_version": "1.5.0",
            "_view_count": null,
            "_view_module_version": "1.2.0",
            "_model_module": "@jupyter-widgets/controls"
          }
        },
        "7d467577fc464bccb710c125d5373975": {
          "model_module": "@jupyter-widgets/base",
          "model_name": "LayoutModel",
          "model_module_version": "1.2.0",
          "state": {
            "_view_name": "LayoutView",
            "grid_template_rows": null,
            "right": null,
            "justify_content": null,
            "_view_module": "@jupyter-widgets/base",
            "overflow": null,
            "_model_module_version": "1.2.0",
            "_view_count": null,
            "flex_flow": null,
            "width": null,
            "min_width": null,
            "border": null,
            "align_items": null,
            "bottom": null,
            "_model_module": "@jupyter-widgets/base",
            "top": null,
            "grid_column": null,
            "overflow_y": null,
            "overflow_x": null,
            "grid_auto_flow": null,
            "grid_area": null,
            "grid_template_columns": null,
            "flex": null,
            "_model_name": "LayoutModel",
            "justify_items": null,
            "grid_row": null,
            "max_height": null,
            "align_content": null,
            "visibility": null,
            "align_self": null,
            "height": null,
            "min_height": null,
            "padding": null,
            "grid_auto_rows": null,
            "grid_gap": null,
            "max_width": null,
            "order": null,
            "_view_module_version": "1.2.0",
            "grid_template_areas": null,
            "object_position": null,
            "object_fit": null,
            "grid_auto_columns": null,
            "margin": null,
            "display": null,
            "left": null
          }
        },
        "81028de5937c4c17ab9010291c574bc0": {
          "model_module": "@jupyter-widgets/base",
          "model_name": "LayoutModel",
          "model_module_version": "1.2.0",
          "state": {
            "_view_name": "LayoutView",
            "grid_template_rows": null,
            "right": null,
            "justify_content": null,
            "_view_module": "@jupyter-widgets/base",
            "overflow": null,
            "_model_module_version": "1.2.0",
            "_view_count": null,
            "flex_flow": null,
            "width": null,
            "min_width": null,
            "border": null,
            "align_items": null,
            "bottom": null,
            "_model_module": "@jupyter-widgets/base",
            "top": null,
            "grid_column": null,
            "overflow_y": null,
            "overflow_x": null,
            "grid_auto_flow": null,
            "grid_area": null,
            "grid_template_columns": null,
            "flex": null,
            "_model_name": "LayoutModel",
            "justify_items": null,
            "grid_row": null,
            "max_height": null,
            "align_content": null,
            "visibility": null,
            "align_self": null,
            "height": null,
            "min_height": null,
            "padding": null,
            "grid_auto_rows": null,
            "grid_gap": null,
            "max_width": null,
            "order": null,
            "_view_module_version": "1.2.0",
            "grid_template_areas": null,
            "object_position": null,
            "object_fit": null,
            "grid_auto_columns": null,
            "margin": null,
            "display": null,
            "left": null
          }
        }
      }
    }
  },
  "cells": [
    {
      "cell_type": "markdown",
      "metadata": {
        "id": "view-in-github",
        "colab_type": "text"
      },
      "source": [
        "<a href=\"https://colab.research.google.com/github/zzhu104/MAT494_HW/blob/main/HW3.5%2C3.6.ipynb\" target=\"_parent\"><img src=\"https://colab.research.google.com/assets/colab-badge.svg\" alt=\"Open In Colab\"/></a>"
      ]
    },
    {
      "cell_type": "markdown",
      "metadata": {
        "id": "0s6qicmKZNFO"
      },
      "source": [
        "3.5 K-means"
      ]
    },
    {
      "cell_type": "markdown",
      "metadata": {
        "id": "wx5aFT8OZP8D"
      },
      "source": [
        "Here we provide some examples of K-means using sklearn: https://scikit-learn.org/stable/modules/generated/sklearn.cluster.KMeans.html\n",
        "\n",
        "Copyright:"
      ]
    },
    {
      "cell_type": "code",
      "metadata": {
        "id": "JgQOFl3yZK5x"
      },
      "source": [
        "# import libraries\n",
        "from numpy import unique\n",
        "from numpy import where\n",
        "from sklearn.datasets import make_classification\n",
        "from sklearn.cluster import KMeans\n",
        "from sklearn.cluster import MiniBatchKMeans\n",
        "import matplotlib.pyplot as plt"
      ],
      "execution_count": 1,
      "outputs": []
    },
    {
      "cell_type": "markdown",
      "metadata": {
        "id": "YqKM8UOZZR_u"
      },
      "source": [
        "1. K-Means"
      ]
    },
    {
      "cell_type": "code",
      "metadata": {
        "colab": {
          "base_uri": "https://localhost:8080/",
          "height": 265
        },
        "id": "FZy4xCrfZRb2",
        "outputId": "1fb48a89-6a81-4388-be2d-19e86b174a91"
      },
      "source": [
        "# Load the data\n",
        "# \"_\" hold the position of \"y\" but we are not interested in y here,\n",
        "# so we can use \"_\" instead of creating a variable y.\n",
        "X, _ = make_classification(n_samples=1000, n_features=2, \n",
        "                           n_informative=2, n_redundant=0, \n",
        "                           n_clusters_per_class=1, random_state=4)\n",
        "\n",
        "# Using the k-means method\n",
        "model = KMeans(n_clusters=2)\n",
        "model.fit(X)\n",
        "\n",
        "# Assign a cluster to each example.\n",
        "yhat = model.predict(X)\n",
        "\n",
        "# Retrieve a unique cluster.\n",
        "clusters = unique(yhat)\n",
        "\n",
        "# Create a scatter plot for the samples of each cluster.\n",
        "for cluster in clusters:\n",
        "    row_ix = where(yhat == cluster)\n",
        "    plt.scatter(X[row_ix, 0], X[row_ix, 1])\n",
        "    \n",
        "# Draw the scatter plot.\n",
        "plt.show()"
      ],
      "execution_count": 2,
      "outputs": [
        {
          "output_type": "display_data",
          "data": {
            "image/png": "[encoded data removed]",
            "text/plain": [
              "<Figure size 432x288 with 1 Axes>"
            ]
          },
          "metadata": {
            "needs_background": "light"
          }
        }
      ]
    },
    {
      "cell_type": "markdown",
      "metadata": {
        "id": "smWI_1DCZWMK"
      },
      "source": [
        "2. Mini-Batch K-Means"
      ]
    },
    {
      "cell_type": "code",
      "metadata": {
        "colab": {
          "base_uri": "https://localhost:8080/",
          "height": 265
        },
        "id": "d6CisGIMZXt9",
        "outputId": "05b88464-eca2-4387-a0e4-0b3142d91b62"
      },
      "source": [
        "# Data sources\n",
        "X, _ = make_classification(n_samples=1000, n_features=2, \n",
        "                           n_informative=2, n_redundant=0, \n",
        "                           n_clusters_per_class=1, random_state=4)\n",
        "\n",
        "# Using the mini-batch k-means method\n",
        "model = MiniBatchKMeans(n_clusters=2)\n",
        "model.fit(X)\n",
        "\n",
        "# Assign a cluster to each example.\n",
        "yhat = model.predict(X)\n",
        "\n",
        "# Retrieve a unique cluster.\n",
        "clusters = unique(yhat)\n",
        "\n",
        "# Create a scatter plot for the samples of each cluster.\n",
        "for cluster in clusters:\n",
        "    row_ix = where(yhat == cluster)\n",
        "    plt.scatter(X[row_ix, 0], X[row_ix, 1])\n",
        "    \n",
        "# Draw the scatter plot.\n",
        "plt.show()"
      ],
      "execution_count": 3,
      "outputs": [
        {
          "output_type": "display_data",
          "data": {
            "image/png": "[encoded data removed]",
            "text/plain": [
              "<Figure size 432x288 with 1 Axes>"
            ]
          },
          "metadata": {
            "needs_background": "light"
          }
        }
      ]
    },
    {
      "cell_type": "markdown",
      "metadata": {
        "id": "CREspRJ4ZcaB"
      },
      "source": [
        "3.6 Support Vector Machine - Examples"
      ]
    },
    {
      "cell_type": "markdown",
      "metadata": {
        "id": "p7YkCG02ZeW_"
      },
      "source": [
        "Here, we provide three example of SVM, and introduce the sci-ki learn package: https://scikit-learn.org/stable/modules/svm.html\n",
        "\n",
        "Copyright:"
      ]
    },
    {
      "cell_type": "code",
      "metadata": {
        "id": "7JjCeRD8ZgdM"
      },
      "source": [
        "# For compatibility with Python 2\n",
        "from __future__ import print_function\n",
        "\n",
        "# To load datasets\n",
        "from sklearn import datasets\n",
        "from sklearn.datasets import make_blobs\n",
        "\n",
        "# To import the classifier (SVM classifier)\n",
        "from sklearn.svm import SVC\n",
        "from sklearn.svm import LinearSVC\n",
        "\n",
        "# To measure accuracy\n",
        "from sklearn import metrics\n",
        "from sklearn.metrics import confusion_matrix\n",
        "\n",
        "from sklearn.model_selection import train_test_split\n",
        "\n",
        "# To support plots\n",
        "from ipywidgets import interact\n",
        "import ipywidgets as widgets\n",
        "import matplotlib as mpl\n",
        "import matplotlib.pyplot as plt\n",
        "from matplotlib.colors import ListedColormap\n",
        "\n",
        "# To increase quality of figures\n",
        "plt.rcParams[\"figure.figsize\"] = (20, 10)\n",
        "\n",
        "# To display all the plots inline\n",
        "%matplotlib inline \n",
        "\n",
        "# Basics\n",
        "import numpy as np\n",
        "import math\n",
        "import cvxopt\n",
        "\n",
        "# To import the scalers\n",
        "from sklearn.preprocessing import MinMaxScaler\n",
        "\n",
        "class DummyScaler:\n",
        "    def fit(self, data):\n",
        "        pass\n",
        "    def transform(self, data):\n",
        "        return data\n",
        "\n",
        "def create_scaler_minmax():\n",
        "    return MinMaxScaler()"
      ],
      "execution_count": 4,
      "outputs": []
    },
    {
      "cell_type": "markdown",
      "metadata": {
        "id": "aaXq5WgXZiZy"
      },
      "source": [
        "1. A Simple Walk-through of the Whole Pipeline"
      ]
    },
    {
      "cell_type": "markdown",
      "metadata": {
        "id": "9mfCtCHVZjQ3"
      },
      "source": [
        "Here we will build a SVM without using the sklearn SVC function, to show the math. Then we will also show the performance of the sklearn SVC function, to compare the results."
      ]
    },
    {
      "cell_type": "markdown",
      "metadata": {
        "id": "smi2wQB-ZkjH"
      },
      "source": [
        "1.1 Build the entire math model step by step"
      ]
    },
    {
      "cell_type": "markdown",
      "metadata": {
        "id": "yScUIDeTZmTt"
      },
      "source": [
        "First we define our SVM class, which contains functions that we will need later.\n",
        "\n",
        "Instead of using gradient descent to find the best fitting line as in the case of Linear Regression, we can directly solve for w and b using the Lagrangian.\n",
        "\n",
        "To learn more about python classes and OOP: http://hplgit.github.io/primer.html/doc/pub/class/._class-readable001.html"
      ]
    },
    {
      "cell_type": "code",
      "metadata": {
        "id": "cjoNXLeQZnuO"
      },
      "source": [
        "# be careful about the indentation in a long code block\n",
        "class SVM(object):\n",
        "  def fit(self, X, y):\n",
        "    n_samples, n_features = X.shape\n",
        "\n",
        "    K = np.zeros((n_samples, n_samples))\n",
        "    for i in range(n_samples):\n",
        "      for j in range(n_samples):\n",
        "        K[i,j] = np.dot(X[i], X[j])\n",
        "   \n",
        "    P = cvxopt.matrix(np.outer(y, y) * K)  # P = X^T X \n",
        "    q = cvxopt.matrix(np.ones(n_samples) * -1) # q = -1 (1xN)\n",
        "    A = cvxopt.matrix(y, (1, n_samples)) # A = y^T\n",
        "    b = cvxopt.matrix(0.0) # b = 0 \n",
        "    G = cvxopt.matrix(np.diag(np.ones(n_samples) * -1)) # -1 (NxN)\n",
        "    h = cvxopt.matrix(np.zeros(n_samples)) # 0 (1xN)\n",
        "    solution = cvxopt.solvers.qp(P, q, G, h, A, b)\n",
        "\n",
        "    a = np.ravel(solution['x']) # Lagrange multipliers\n",
        "    # Lagrange have non zero lagrange multipliers\n",
        "    sv = a > 1e-5\n",
        "    ind = np.arange(len(a))[sv]\n",
        "    self.a = a[sv]\n",
        "    self.sv = X[sv]\n",
        "    self.sv_y = y[sv]\n",
        "    self.b = 0  # Intercept\n",
        "    for n in range(len(self.a)):\n",
        "      self.b += self.sv_y[n]\n",
        "      self.b -= np.sum(self.a * self.sv_y * K[ind[n], sv])\n",
        "      self.b /= len(self.a)\n",
        "\n",
        "    # Weights\n",
        "    self.w = np.zeros(n_features)\n",
        "    for n in range(len(self.a)):\n",
        "      self.w += self.a[n] * self.sv_y[n] * self.sv[n]\n",
        "\n",
        "  def project(self, X):\n",
        "    return np.dot(X, self.w) + self.b\n",
        "\n",
        "  def predict(self, X):\n",
        "    return np.sign(self.project(X))"
      ],
      "execution_count": 5,
      "outputs": []
    },
    {
      "cell_type": "markdown",
      "metadata": {
        "id": "JumBuApvZo2W"
      },
      "source": [
        ""
      ]
    },
    {
      "cell_type": "markdown",
      "metadata": {
        "id": "LO3VAUuCZo75"
      },
      "source": [
        "Next we generate some linearly separable data.\n",
        "\n",
        "We label the negative samples as -1 instead of 0. The package cvxopt expects the data to be in a specific format which is why we take an intermediate step."
      ]
    },
    {
      "cell_type": "code",
      "metadata": {
        "colab": {
          "base_uri": "https://localhost:8080/",
          "height": 282
        },
        "id": "Iij_6qBCZp5b",
        "outputId": "7d4105f1-7ff3-4ede-e9a1-974641fe1d3f"
      },
      "source": [
        "X, y = make_blobs(n_samples = 250, centers = 2,\n",
        "                  random_state = 0, cluster_std = 0.60)\n",
        "y[y == 0] = -1\n",
        "tmp = np.ones(len(X))\n",
        "y = tmp * y\n",
        "\n",
        "# plot the data we just generated\n",
        "plt.scatter(X[:, 0], X[:, 1], c = y, cmap = 'winter')"
      ],
      "execution_count": 6,
      "outputs": [
        {
          "output_type": "execute_result",
          "data": {
            "text/plain": [
              "<matplotlib.collections.PathCollection at 0x7f0d59581ad0>"
            ]
          },
          "metadata": {},
          "execution_count": 6
        },
        {
          "output_type": "display_data",
          "data": {
            "image/png": "[encoded data removed]",
            "text/plain": [
              "<Figure size 432x288 with 1 Axes>"
            ]
          },
          "metadata": {
            "needs_background": "light"
          }
        }
      ]
    },
    {
      "cell_type": "markdown",
      "metadata": {
        "id": "-DCvIwWPZsW-"
      },
      "source": [
        "Then we can split the data into training and testing sets."
      ]
    },
    {
      "cell_type": "code",
      "metadata": {
        "colab": {
          "base_uri": "https://localhost:8080/"
        },
        "id": "BclLd5IkZtZ9",
        "outputId": "746a17da-4fc7-47f5-8309-603a457a525a"
      },
      "source": [
        "# split the data\n",
        "X_train, X_test, y_train, y_test = train_test_split(X, y, random_state=0)\n",
        "\n",
        "# initiate a new object of the SVM class we just created, so it can use all the functions we made inside that SVM class\n",
        "# svm is a model\n",
        "svm = SVM()\n",
        "\n",
        "# fit the training data to the model\n",
        "svm.fit(X_train, y_train)"
      ],
      "execution_count": 7,
      "outputs": [
        {
          "output_type": "stream",
          "name": "stdout",
          "text": [
            "     pcost       dcost       gap    pres   dres\n",
            " 0: -1.8226e+01 -3.4458e+01  6e+02  2e+01  2e+00\n",
            " 1: -2.5252e+01 -1.8773e+01  2e+02  9e+00  7e-01\n",
            " 2: -5.3459e+01 -3.2711e+01  2e+02  7e+00  6e-01\n",
            " 3: -7.8360e+01 -2.6482e+01  1e+02  4e+00  3e-01\n",
            " 4: -5.6818e+00 -5.1750e+00  1e+01  2e-01  1e-02\n",
            " 5: -3.6906e+00 -4.1082e+00  4e-01  4e-16  9e-15\n",
            " 6: -4.0061e+00 -4.0104e+00  4e-03  1e-15  6e-15\n",
            " 7: -4.0094e+00 -4.0094e+00  4e-05  1e-15  4e-15\n",
            " 8: -4.0094e+00 -4.0094e+00  4e-07  2e-15  7e-15\n",
            "Optimal solution found.\n"
          ]
        }
      ]
    },
    {
      "cell_type": "markdown",
      "metadata": {
        "id": "Q0SDK0zXZupX"
      },
      "source": [
        "Next, we plot the decision boundary and support vectors."
      ]
    },
    {
      "cell_type": "code",
      "metadata": {
        "colab": {
          "base_uri": "https://localhost:8080/",
          "height": 282
        },
        "id": "AxDEklMDZvqI",
        "outputId": "91f797d5-f501-490d-a4da-a74e83183ca5"
      },
      "source": [
        "def f(x, w, b, c=0):\n",
        "    return (-w[0] * x - b + c) / w[1]\n",
        "plt.scatter(X_train[:, 0], X_train[:, 1], c=y_train, cmap='winter')\n",
        "\n",
        "# w.x + b = 0\n",
        "a0 = -4; a1 = f(a0, svm.w, svm.b)\n",
        "b0 = 4; b1 = f(b0, svm.w, svm.b)\n",
        "plt.plot([a0,b0], [a1,b1], 'k')\n",
        "\n",
        "# w.x + b = 1\n",
        "a0 = -4; a1 = f(a0, svm.w, svm.b, 1)\n",
        "b0 = 4; b1 = f(b0, svm.w, svm.b, 1)\n",
        "plt.plot([a0,b0], [a1,b1], 'k--')\n",
        "\n",
        "# w.x + b = -1\n",
        "a0 = -4; a1 = f(a0, svm.w, svm.b, -1)\n",
        "b0 = 4; b1 = f(b0, svm.w, svm.b, -1)\n",
        "plt.plot([a0,b0], [a1,b1], 'k--')"
      ],
      "execution_count": 8,
      "outputs": [
        {
          "output_type": "execute_result",
          "data": {
            "text/plain": [
              "[<matplotlib.lines.Line2D at 0x7f0d4eb52890>]"
            ]
          },
          "metadata": {},
          "execution_count": 8
        },
        {
          "output_type": "display_data",
          "data": {
            "image/png": "[encoded data removed]",
            "text/plain": [
              "<Figure size 432x288 with 1 Axes>"
            ]
          },
          "metadata": {
            "needs_background": "light"
          }
        }
      ]
    },
    {
      "cell_type": "markdown",
      "metadata": {
        "id": "vwY2pCvUZxB-"
      },
      "source": [
        "Now we can use our model to predict the classes of the samples in the testing dataset.\n",
        "\n",
        "The confusion matrix is used to evaluate the accuracy of our model."
      ]
    },
    {
      "cell_type": "code",
      "metadata": {
        "colab": {
          "base_uri": "https://localhost:8080/"
        },
        "id": "PyLLHF9BZyBm",
        "outputId": "8fd05fc3-e7b4-4ef6-942f-ce070c679e79"
      },
      "source": [
        "y_pred = svm.predict(X_test)\n",
        "confusion_matrix(y_test, y_pred)"
      ],
      "execution_count": 9,
      "outputs": [
        {
          "output_type": "execute_result",
          "data": {
            "text/plain": [
              "array([[29,  0],\n",
              "       [ 7, 27]])"
            ]
          },
          "metadata": {},
          "execution_count": 9
        }
      ]
    },
    {
      "cell_type": "markdown",
      "metadata": {
        "id": "Y2SVvTTHZzZ9"
      },
      "source": [
        "1.2 Use Sci-ki Learn Functions¶"
      ]
    },
    {
      "cell_type": "markdown",
      "metadata": {
        "id": "OzTfDOPsZ0hc"
      },
      "source": [
        "Here we build the SVM using the powerful functions from sklearn, without defining the mathematical details by ourselves."
      ]
    },
    {
      "cell_type": "code",
      "metadata": {
        "colab": {
          "base_uri": "https://localhost:8080/"
        },
        "id": "67sQshz3Z1nc",
        "outputId": "1f03c95f-87ee-4713-e9fd-28c552222b77"
      },
      "source": [
        "# LinearSVC is an existing class from sklearn, now we can just use it as well as all the functions within\n",
        "svc = LinearSVC() \n",
        "\n",
        "# fit the training data to the model\n",
        "svc.fit(X_train, y_train)"
      ],
      "execution_count": 10,
      "outputs": [
        {
          "output_type": "execute_result",
          "data": {
            "text/plain": [
              "LinearSVC(C=1.0, class_weight=None, dual=True, fit_intercept=True,\n",
              "          intercept_scaling=1, loss='squared_hinge', max_iter=1000,\n",
              "          multi_class='ovr', penalty='l2', random_state=None, tol=0.0001,\n",
              "          verbose=0)"
            ]
          },
          "metadata": {},
          "execution_count": 10
        }
      ]
    },
    {
      "cell_type": "code",
      "metadata": {
        "colab": {
          "base_uri": "https://localhost:8080/",
          "height": 282
        },
        "id": "JxCASjTPZ20c",
        "outputId": "ad9f1133-f3d3-4607-f146-e34569b9d494"
      },
      "source": [
        "plt.scatter(X_train[:, 0], X_train[:, 1], c=y_train, cmap='winter');\n",
        "ax = plt.gca()\n",
        "xlim = ax.get_xlim()\n",
        "w = svc.coef_[0]\n",
        "a = -w[0] / w[1]\n",
        "xx = np.linspace(xlim[0], xlim[1])\n",
        "yy = a * xx - svc.intercept_[0] / w[1]\n",
        "plt.plot(xx, yy)\n",
        "yy = a * xx - (svc.intercept_[0] - 1) / w[1]\n",
        "plt.plot(xx, yy, 'k--')\n",
        "yy = a * xx - (svc.intercept_[0] + 1) / w[1]\n",
        "plt.plot(xx, yy, 'k--')"
      ],
      "execution_count": 11,
      "outputs": [
        {
          "output_type": "execute_result",
          "data": {
            "text/plain": [
              "[<matplotlib.lines.Line2D at 0x7f0d46a0c550>]"
            ]
          },
          "metadata": {},
          "execution_count": 11
        },
        {
          "output_type": "display_data",
          "data": {
            "image/png": "[encoded data removed]",
            "text/plain": [
              "<Figure size 432x288 with 1 Axes>"
            ]
          },
          "metadata": {
            "needs_background": "light"
          }
        }
      ]
    },
    {
      "cell_type": "markdown",
      "metadata": {
        "id": "b5aqrcLOZ389"
      },
      "source": [
        "Same as in 1.1, we now use our model to predict the classes of the samples in the testing dataset.\n",
        "\n",
        "The confusion matrix is used to evaluate the accuracy of our model."
      ]
    },
    {
      "cell_type": "code",
      "metadata": {
        "colab": {
          "base_uri": "https://localhost:8080/"
        },
        "id": "33VNH83EZ5OQ",
        "outputId": "96f656fa-0394-474d-d60c-a0ea7845caf6"
      },
      "source": [
        "y_pred = svc.predict(X_test)\n",
        "confusion_matrix(y_test, y_pred)"
      ],
      "execution_count": 12,
      "outputs": [
        {
          "output_type": "execute_result",
          "data": {
            "text/plain": [
              "array([[29,  0],\n",
              "       [ 0, 34]])"
            ]
          },
          "metadata": {},
          "execution_count": 12
        }
      ]
    },
    {
      "cell_type": "markdown",
      "metadata": {
        "id": "eKlu3gTxZ6XF"
      },
      "source": [
        "2. A simple example of SVM using sklearn linearSVM"
      ]
    },
    {
      "cell_type": "code",
      "metadata": {
        "colab": {
          "base_uri": "https://localhost:8080/",
          "height": 231
        },
        "id": "q5xd5sOWZ7ud",
        "outputId": "d2fbbe79-18e6-49ec-d5c7-bbdff85e7e1f"
      },
      "source": [
        "# see more about the Iris dataset in section 3\n",
        "\n",
        "#  Load data\n",
        "iris = datasets.load_iris()\n",
        "#  We can just consider the first two features\n",
        "X = iris.data[:, :2] \n",
        "y = iris.target\n",
        "\n",
        "C = 1.0 # SVM regularization parameters\n",
        "svc = svm.SVC(kernel='linear', C=1).fit(X, y)\n",
        "\n",
        "# Create a grid for visualization\n",
        "x_min, x_max = X[:, 0].min() - 1, X[:, 0].max() + 1\n",
        "y_min, y_max = X[:, 1].min() - 1, X[:, 1].max() + 1\n",
        "h = (x_max / x_min)/100\n",
        "xx, yy = np.meshgrid(np.arange(x_min, x_max, h), np.arange(y_min, y_max, h))\n",
        "\n",
        "# Visualization of results\n",
        "plt.subplot(1, 1, 1)\n",
        "Z = svc.predict(np.c_[xx.ravel(), yy.ravel()])\n",
        "Z = Z.reshape(xx.shape)\n",
        "plt.contourf(xx, yy, Z, cmap=plt.cm.Paired, alpha=0.8)\n",
        "\n",
        "plt.scatter(X[:, 0], X[:, 1], c=y, cmap=plt.cm.Paired)\n",
        "plt.xlabel('Sepal length')\n",
        "plt.ylabel('Sepal width')\n",
        "plt.xlim(xx.min(), xx.max())\n",
        "plt.title('SVC with linear kernel')\n",
        "plt.show()"
      ],
      "execution_count": 13,
      "outputs": [
        {
          "output_type": "error",
          "ename": "AttributeError",
          "evalue": "ignored",
          "traceback": [
            "\u001b[0;31m---------------------------------------------------------------------------\u001b[0m",
            "\u001b[0;31mAttributeError\u001b[0m                            Traceback (most recent call last)",
            "\u001b[0;32m<ipython-input-13-3ca86839ca36>\u001b[0m in \u001b[0;36m<module>\u001b[0;34m()\u001b[0m\n\u001b[1;32m      8\u001b[0m \u001b[0;34m\u001b[0m\u001b[0m\n\u001b[1;32m      9\u001b[0m \u001b[0mC\u001b[0m \u001b[0;34m=\u001b[0m \u001b[0;36m1.0\u001b[0m \u001b[0;31m# SVM regularization parameters\u001b[0m\u001b[0;34m\u001b[0m\u001b[0;34m\u001b[0m\u001b[0m\n\u001b[0;32m---> 10\u001b[0;31m \u001b[0msvc\u001b[0m \u001b[0;34m=\u001b[0m \u001b[0msvm\u001b[0m\u001b[0;34m.\u001b[0m\u001b[0mSVC\u001b[0m\u001b[0;34m(\u001b[0m\u001b[0mkernel\u001b[0m\u001b[0;34m=\u001b[0m\u001b[0;34m'linear'\u001b[0m\u001b[0;34m,\u001b[0m \u001b[0mC\u001b[0m\u001b[0;34m=\u001b[0m\u001b[0;36m1\u001b[0m\u001b[0;34m)\u001b[0m\u001b[0;34m.\u001b[0m\u001b[0mfit\u001b[0m\u001b[0;34m(\u001b[0m\u001b[0mX\u001b[0m\u001b[0;34m,\u001b[0m \u001b[0my\u001b[0m\u001b[0;34m)\u001b[0m\u001b[0;34m\u001b[0m\u001b[0;34m\u001b[0m\u001b[0m\n\u001b[0m\u001b[1;32m     11\u001b[0m \u001b[0;34m\u001b[0m\u001b[0m\n\u001b[1;32m     12\u001b[0m \u001b[0;31m# Create a grid for visualization\u001b[0m\u001b[0;34m\u001b[0m\u001b[0;34m\u001b[0m\u001b[0;34m\u001b[0m\u001b[0m\n",
            "\u001b[0;31mAttributeError\u001b[0m: 'SVM' object has no attribute 'SVC'"
          ]
        }
      ]
    },
    {
      "cell_type": "markdown",
      "metadata": {
        "id": "k75wHpzEZ9i3"
      },
      "source": [
        "3. SVM with different kernels with the Iris dataset"
      ]
    },
    {
      "cell_type": "markdown",
      "metadata": {
        "id": "OCqeWhWpZ-zF"
      },
      "source": [
        "The Iris flower data set or Fisher's Iris data set is a multivariate data set introduced by the British statistician and biologist Ronald Fisher in his 1936 paper as an example of linear discriminant analysis. It is perhaps the best known database to be found in the pattern recognition literature."
      ]
    },
    {
      "cell_type": "markdown",
      "metadata": {
        "id": "kvLROdFUZ_3P"
      },
      "source": [
        "More information can be found here: https://archive.ics.uci.edu/ml/datasets/iris"
      ]
    },
    {
      "cell_type": "markdown",
      "metadata": {
        "id": "oCX-Q2GNaA20"
      },
      "source": [
        "*   Classes: 3 - 3 kinds of iris\n",
        "*   Samples per class: 50\n",
        "*   Samples total: 150\n",
        "*   Dimensionality: 4 - 4 parameters of the iris flowers\n",
        "*   Features: real, positive"
      ]
    },
    {
      "cell_type": "code",
      "metadata": {
        "id": "W18io5UsaCtP"
      },
      "source": [
        "X, y = datasets.load_iris(return_X_y = True) \n",
        "\n",
        "# returns all the data as X, and their corresponding classes as y\n",
        "# 4 columns in total, for the four parameters\n",
        "# check the document for load_iris() function: https://scikit-learn.org/stable/modules/generated/sklearn.datasets.load_iris.html"
      ],
      "execution_count": 14,
      "outputs": []
    },
    {
      "cell_type": "markdown",
      "metadata": {
        "id": "2wOv7JIZaXrL"
      },
      "source": [
        "Trim the data to 2 variables/parameters and 2 classes, then scale the data"
      ]
    },
    {
      "cell_type": "code",
      "metadata": {
        "id": "OrWFLCEbaYtv"
      },
      "source": [
        "X_trimmed = X[:, 1:3] # keep all the rows, column 1 and 2\n",
        "X_trimmed = X_trimmed[y != 0, :] # delete the data in X that belongs to class 0\n",
        "y_trimmed = y[y != 0] # delete all the class 0 tags in y\n",
        "\n",
        "# scale the data for better performance\n",
        "create_scaler = create_scaler_minmax\n",
        "scaler = create_scaler()\n",
        "scaler.fit(X_trimmed)\n",
        "X_trimmed = scaler.transform(X_trimmed)"
      ],
      "execution_count": 15,
      "outputs": []
    },
    {
      "cell_type": "markdown",
      "metadata": {
        "id": "3KwRH_OUaafP"
      },
      "source": [
        "Plot the trimmed data with different colors"
      ]
    },
    {
      "cell_type": "code",
      "metadata": {
        "colab": {
          "base_uri": "https://localhost:8080/",
          "height": 295
        },
        "id": "PvSCNAxDablm",
        "outputId": "95078a71-9ef2-4864-ead2-43363184aab6"
      },
      "source": [
        "plt.scatter(X_trimmed[:, 0], X_trimmed[:, 1], # these are the data of the 2 parameters picked\n",
        "            c = y_trimmed, # y is the class of each dot, represented by blue and red\n",
        "            s = 30, cmap = plt.cm.bwr)\n",
        "\n",
        "plt.title('Visualization of reduced iris problem')\n",
        "plt.xlabel('Sepal width')  # X_trimmed[:, 0], column 0\n",
        "plt.ylabel('Petal length') # X_trimmed[:, 1], column 1\n",
        "plt.show()"
      ],
      "execution_count": 16,
      "outputs": [
        {
          "output_type": "display_data",
          "data": {
            "image/png": "[encoded data removed]",
            "text/plain": [
              "<Figure size 432x288 with 1 Axes>"
            ]
          },
          "metadata": {
            "needs_background": "light"
          }
        }
      ]
    },
    {
      "cell_type": "markdown",
      "metadata": {
        "id": "BEjo_E6VacwP"
      },
      "source": [
        "3.1 Build the Support Vector Machines Classifier"
      ]
    },
    {
      "cell_type": "markdown",
      "metadata": {
        "id": "Iy_UURgjadol"
      },
      "source": [
        "Here we will build multiple classifiers for this single dataset, in a single interactive plot, to show the difference causing by the choice of the kernel. SVM also has many other parameters, the choices of these parameters will lead to huge difference of the results."
      ]
    },
    {
      "cell_type": "markdown",
      "metadata": {
        "id": "tbmlkuKCae26"
      },
      "source": [
        "A full list of parameters can be found here: https://scikit-learn.org/stable/modules/generated/sklearn.svm.SVC.html"
      ]
    },
    {
      "cell_type": "code",
      "metadata": {
        "id": "tXsk5KS2agNT"
      },
      "source": [
        "# Here we use closure to store the related variables\n",
        "def create_plot_svm_classification_kernels(_X, _y):\n",
        "    X, y = _X, _y\n",
        "    \n",
        "    def plot_svc_kernel(C = 1, kernel = 'linear', expand = 3.1, intensity = 0.5):\n",
        "        # kernel{‘linear’, ‘poly’, ‘rbf’, ‘sigmoid’, ‘precomputed’}, default=’rbf’\n",
        "        \n",
        "        # build the model here, clf is the model\n",
        "        if kernel.startswith('poly'):\n",
        "            clf = SVC(kernel = 'poly', C = C, gamma = 'auto', degree = int(kernel[4:]))\n",
        "            # degree, int, default=3, degree of the polynomial kernel function (‘poly’) \n",
        "            # Ignored by all other kernels. That's why the poly kernel is picked out here\n",
        "    \n",
        "        else:\n",
        "            clf = SVC(kernel = kernel, C = C, gamma = 'auto')\n",
        "            # gamma{‘scale’, ‘auto’} or float, default=’scale’, Kernel coefficient for ‘rbf’, ‘poly’ and ‘sigmoid’\n",
        "            # other parameters take default value\n",
        "        \n",
        "        # fit the iris training data to the model we just built\n",
        "        # the modeling is all done\n",
        "        clf.fit(X, y)\n",
        "    \n",
        "    \n",
        "        # plot the result (both the training data and the classifier)\n",
        "        # since we are going to present different kernel, this plotting program is complex, just for the teaching purpose\n",
        "        # under normal settings, we only need to plot a single kernel\n",
        "        fig, ax = plt.subplots()\n",
        "        ax.plot((np.min(X[:, 0]) - expand, np.max(X[:, 0]) + expand), \n",
        "                (np.min(X[:, 1]) - expand, np.max(X[:, 1]) + expand), alpha=0.0)\n",
        "        \n",
        "        xlim = ax.get_xlim()\n",
        "        ylim = ax.get_ylim()\n",
        "        \n",
        "        xx = np.linspace(xlim[0], xlim[1], 400)\n",
        "        yy = np.linspace(ylim[0], ylim[1], 200)\n",
        "        \n",
        "        YY, XX = np.meshgrid(yy, xx)\n",
        "        xy = np.vstack([XX.ravel(), YY.ravel()]).T\n",
        "        Z = clf.decision_function(xy).reshape(XX.shape)\n",
        "        v = max(-np.min(Z), np.max(Z))\n",
        "        cf = ax.contourf(XX, YY, Z, 200, cmap='coolwarm', \n",
        "                         norm = mpl.colors.Normalize(vmin=-v, vmax=v), alpha=intensity)\n",
        "        \n",
        "        ax.scatter(X[:, 0], X[:, 1], c=y, s=30, cmap=plt.cm.bwr)\n",
        "        ax.contour(XX, YY, Z, colors='k', levels=[-1, 0, 1], alpha=0.8,\n",
        "                   linestyles=['--', '-', '--'], linewidths=[2, 5, 2])\n",
        "        ax.scatter(clf.support_vectors_[:, 0], clf.support_vectors_[:, 1], s=100,\n",
        "                   linewidth=1, facecolors='none', edgecolors='k')\n",
        "        \n",
        "        plt.xlabel('Sepal width')\n",
        "        plt.ylabel('Petal length')\n",
        "        plt.title('Support Vector Machines Classifier: C=%s, %s kernel.' % (str(C), kernel))\n",
        "        plt.show()\n",
        "        \n",
        "    return plot_svc_kernel"
      ],
      "execution_count": 17,
      "outputs": []
    },
    {
      "cell_type": "markdown",
      "metadata": {
        "id": "EaraiImZahN6"
      },
      "source": [
        "Build an interactive diagram with widgets, only for teaching purpose."
      ]
    },
    {
      "cell_type": "code",
      "metadata": {
        "colab": {
          "base_uri": "https://localhost:8080/",
          "height": 440,
          "referenced_widgets": [
            "f566ffa6883a48f8a973ddc68b9eabcd",
            "412656eac66a429eac3ea2897447938f",
            "adcdcc4b24054016b0d4f749cf9028b5",
            "54086d4908e44311a794fbb3d849d5bc",
            "6d73e793c833499a95af761082535cb7",
            "7ee12800bc184f24ac3dbd787ae2c11f",
            "14adf1dbd4bb45bbba2b79d58ef5c5fb",
            "2f7b9b206a904d7ab1dfe8705cfb1bc6",
            "1946e96509064bada3da82fabbfb24e6",
            "21486452f24447a38667905a64bee9b1",
            "d16ccfb085e546dbabacc2ad38eb5d3c",
            "56b429f3f3784c32a6da9f2b5266e5bf",
            "051d9668b7514a5da543a0db2731335f",
            "cd90d5702ab14a83bf71a4db37b28442",
            "7d467577fc464bccb710c125d5373975",
            "81028de5937c4c17ab9010291c574bc0"
          ]
        },
        "id": "KkJ-PvY2aiuL",
        "outputId": "d22f8a0b-3d28-4d90-9e45-06407097bba3"
      },
      "source": [
        "kernels = ['linear'] + ['poly'+str(x) for x in range(1, 9)] + ['rbf']\n",
        "С_widget = widgets.FloatLogSlider(\n",
        "    value=1,\n",
        "    base=10,\n",
        "    min=-4,\n",
        "    max=4,\n",
        "    step=0.5,\n",
        "    continuous_update=False,\n",
        "    description='C')\n",
        "expand_widget = widgets.FloatSlider(\n",
        "    value=3.1,\n",
        "    min=0,\n",
        "    max=10,\n",
        "    step=0.1,\n",
        "    continuous_update=False,\n",
        "    description='expand:')\n",
        "intensity_widget = widgets.FloatSlider(\n",
        "    value=0.5,\n",
        "    min=0.1,\n",
        "    max=0.9,\n",
        "    step=0.1,\n",
        "    continuous_update=False,\n",
        "    description='contour intensity:')\n",
        "\n",
        "# Call the function we just made\n",
        "interact(create_plot_svm_classification_kernels(X_trimmed, y_trimmed), \n",
        "         C = С_widget, kernel = kernels, expand = expand_widget, intensity = intensity_widget)"
      ],
      "execution_count": 18,
      "outputs": [
        {
          "output_type": "display_data",
          "data": {
            "application/vnd.jupyter.widget-view+json": {
              "model_id": "f566ffa6883a48f8a973ddc68b9eabcd",
              "version_minor": 0,
              "version_major": 2
            },
            "text/plain": [
              "interactive(children=(FloatLogSlider(value=1.0, continuous_update=False, description='C', min=-4.0, step=0.5),…"
            ]
          },
          "metadata": {}
        },
        {
          "output_type": "execute_result",
          "data": {
            "text/plain": [
              "<function __main__.create_plot_svm_classification_kernels.<locals>.plot_svc_kernel>"
            ]
          },
          "metadata": {},
          "execution_count": 18
        }
      ]
    },
    {
      "cell_type": "markdown",
      "metadata": {
        "id": "rhsPnhlNakom"
      },
      "source": [
        "NOTE: To support interactive plots in jupyter lab, run these in command line:"
      ]
    },
    {
      "cell_type": "markdown",
      "metadata": {
        "id": "HHWIaWLHaniK"
      },
      "source": [
        "To install the nodejs package with conda run one of the following, make sure \n",
        "the version is above 12.0.0\n",
        "conda install -c conda-forge nodejs\n",
        "\n",
        "conda install -c conda-forge/label/gcc7 nodejs\n",
        "\n",
        "conda install -c conda-forge/label/cf201901 nodejs\n",
        "\n",
        "conda install -c conda-forge/label/cf202003 nodejs\n",
        "\n",
        "reference: https://anaconda.org/conda-forge/nodejs\n",
        "\n",
        "\n",
        "\n",
        "This line may take a while to finish running, do not interrupt:\n",
        "jupyter labextension install @jupyter-widgets/jupyterlab-manager"
      ]
    }
  ]
}