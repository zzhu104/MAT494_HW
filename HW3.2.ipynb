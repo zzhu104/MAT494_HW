{
  "nbformat": 4,
  "nbformat_minor": 0,
  "metadata": {
    "colab": {
      "name": "Untitled7.ipynb",
      "provenance": [],
      "authorship_tag": "ABX9TyO+QZNhEdAHtDCRRg9mTJt1",
      "include_colab_link": true
    },
    "kernelspec": {
      "name": "python3",
      "display_name": "Python 3"
    },
    "language_info": {
      "name": "python"
    }
  },
  "cells": [
    {
      "cell_type": "markdown",
      "metadata": {
        "id": "view-in-github",
        "colab_type": "text"
      },
      "source": [
        "<a href=\"https://colab.research.google.com/github/zzhu104/MAT494_HW/blob/main/HW3.2.ipynb\" target=\"_parent\"><img src=\"https://colab.research.google.com/assets/colab-badge.svg\" alt=\"Open In Colab\"/></a>"
      ]
    },
    {
      "cell_type": "markdown",
      "metadata": {
        "id": "Sam3jQaf8H6-"
      },
      "source": [
        "Chapter 3.2 Calculus - Review"
      ]
    },
    {
      "cell_type": "markdown",
      "metadata": {
        "id": "87NzW93Z8Jtf"
      },
      "source": [
        "Here, we provide some examples of calculus.\n",
        "\n",
        "More examples: https://scipy-lectures.org/packages/sympy.html\n",
        "\n",
        "Copyright:"
      ]
    },
    {
      "cell_type": "markdown",
      "metadata": {
        "id": "Boem2_xt8Ns-"
      },
      "source": [
        "1 Calculate limits using Sympy"
      ]
    },
    {
      "cell_type": "code",
      "metadata": {
        "colab": {
          "base_uri": "https://localhost:8080/"
        },
        "id": "vBOSFqnU8MDZ",
        "outputId": "9a4e99c9-c31a-4f46-e5f0-5de9f2ed5481"
      },
      "source": [
        "# import library\n",
        "import sympy as sym\n",
        "\n",
        "# pythonic math expressions: add spaces, use single quotes and lowercases\n",
        "# declaring variables\n",
        "x, y, z, a, b, c = sym.symbols('x, y, z, a, b, c')\n",
        "\n",
        "f = sym.sin(x) / x\n",
        "print(sym.limit(f, x, 0))\n",
        "\n",
        "n = sym.symbols('n')\n",
        "print(sym.limit(((n + 3) / (n + 2)) ** n, n, sym.oo)) # oo is mathematical infinity"
      ],
      "execution_count": 1,
      "outputs": [
        {
          "output_type": "stream",
          "name": "stdout",
          "text": [
            "1\n",
            "E\n"
          ]
        }
      ]
    },
    {
      "cell_type": "markdown",
      "metadata": {
        "id": "AAQgcb228TEL"
      },
      "source": [
        "2.1 Calculate derivatives"
      ]
    },
    {
      "cell_type": "code",
      "metadata": {
        "colab": {
          "base_uri": "https://localhost:8080/"
        },
        "id": "80TQMiTm8UVr",
        "outputId": "bdb14f9a-25af-4ae2-bf6c-cf3ba98fdf91"
      },
      "source": [
        "# declaring variables\n",
        "x, y, z, a, b, c = sym.symbols('x, y, z, a, b, c')\n",
        "\n",
        "# we take the derivative using diff\n",
        "# diff (function, independent variable, number of derivatives)\n",
        "\n",
        "exp1 = sym.diff(sym.sin(2 * x), x) \n",
        "print('1st derivative w.r.t x: ', exp1) \n",
        "\n",
        "exp2 = sym.diff(sym.sin(2*x), x, 2) \n",
        "print('2nd derivative w.r.t x: ', exp2) \n",
        "\n",
        "exp3 = sym.diff(sym.sin(2*x), x, 3)\n",
        "print('3rd derivative w.r.t x: ', exp3) \n",
        "\n",
        "exp4 = sym.diff(sym.sin(x*y), x, 2, y, 3) \n",
        "print('\\n', exp4)"
      ],
      "execution_count": 2,
      "outputs": [
        {
          "output_type": "stream",
          "name": "stdout",
          "text": [
            "1st derivative w.r.t x:  2*cos(2*x)\n",
            "2nd derivative w.r.t x:  -4*sin(2*x)\n",
            "3rd derivative w.r.t x:  -8*cos(2*x)\n",
            "\n",
            " x*(x**2*y**2*cos(x*y) + 6*x*y*sin(x*y) - 6*cos(x*y))\n"
          ]
        }
      ]
    },
    {
      "cell_type": "code",
      "metadata": {
        "colab": {
          "base_uri": "https://localhost:8080/",
          "height": 38
        },
        "id": "oxXR73hD8WDV",
        "outputId": "e00726ea-8c84-4d90-da6c-fa8c268c9636"
      },
      "source": [
        "# notice the difference of the output format\n",
        "sym.diff(sym.exp(-x) * sym.cos(3 - x))"
      ],
      "execution_count": 3,
      "outputs": [
        {
          "output_type": "execute_result",
          "data": {
            "text/latex": "$\\displaystyle - e^{- x} \\sin{\\left(x - 3 \\right)} - e^{- x} \\cos{\\left(x - 3 \\right)}$",
            "text/plain": [
              "-exp(-x)*sin(x - 3) - exp(-x)*cos(x - 3)"
            ]
          },
          "metadata": {},
          "execution_count": 3
        }
      ]
    },
    {
      "cell_type": "markdown",
      "metadata": {
        "id": "8MOd8f4X8Xvv"
      },
      "source": [
        "2.2 Lambda Calculus"
      ]
    },
    {
      "cell_type": "code",
      "metadata": {
        "colab": {
          "base_uri": "https://localhost:8080/",
          "height": 38
        },
        "id": "C8NjKVBo8Ytg",
        "outputId": "3d8633fe-9dd8-40aa-f49b-3df94974ab7a"
      },
      "source": [
        "x = sym.symbols('x')\n",
        "f = x ** 4 + 7 * x ** 3 + 5 * x ** 2 - 17 * x + 3\n",
        "f"
      ],
      "execution_count": 4,
      "outputs": [
        {
          "output_type": "execute_result",
          "data": {
            "text/latex": "$\\displaystyle x^{4} + 7 x^{3} + 5 x^{2} - 17 x + 3$",
            "text/plain": [
              "x**4 + 7*x**3 + 5*x**2 - 17*x + 3"
            ]
          },
          "metadata": {},
          "execution_count": 4
        }
      ]
    },
    {
      "cell_type": "code",
      "metadata": {
        "colab": {
          "base_uri": "https://localhost:8080/"
        },
        "id": "GAdU_S0p8aRY",
        "outputId": "ced36985-92ae-4935-fc72-01e09aa8ba90"
      },
      "source": [
        "fLam = sym.lambdify('x', f)\n",
        "fLam(1)"
      ],
      "execution_count": 5,
      "outputs": [
        {
          "output_type": "execute_result",
          "data": {
            "text/plain": [
              "-1"
            ]
          },
          "metadata": {},
          "execution_count": 5
        }
      ]
    },
    {
      "cell_type": "code",
      "metadata": {
        "colab": {
          "base_uri": "https://localhost:8080/",
          "height": 38
        },
        "id": "EyymjONL8bS3",
        "outputId": "7ae49b39-fa70-43b2-9de6-54678dc1c24e"
      },
      "source": [
        "f2 = sym.diff(f)\n",
        "f2\n"
      ],
      "execution_count": 6,
      "outputs": [
        {
          "output_type": "execute_result",
          "data": {
            "text/latex": "$\\displaystyle 4 x^{3} + 21 x^{2} + 10 x - 17$",
            "text/plain": [
              "4*x**3 + 21*x**2 + 10*x - 17"
            ]
          },
          "metadata": {},
          "execution_count": 6
        }
      ]
    },
    {
      "cell_type": "code",
      "metadata": {
        "colab": {
          "base_uri": "https://localhost:8080/"
        },
        "id": "PEH35eiE8cuo",
        "outputId": "bc4411c0-1f31-4e76-b25e-3c10d46f67d2"
      },
      "source": [
        "\n",
        "f2Lam = sym.lambdify('x', f2)\n",
        "f2Lam(1)"
      ],
      "execution_count": 7,
      "outputs": [
        {
          "output_type": "execute_result",
          "data": {
            "text/plain": [
              "18"
            ]
          },
          "metadata": {},
          "execution_count": 7
        }
      ]
    },
    {
      "cell_type": "markdown",
      "metadata": {
        "id": "aitYr3yJ8eQx"
      },
      "source": [
        "2.3 Partial derivatives of functions of several variables"
      ]
    },
    {
      "cell_type": "code",
      "metadata": {
        "colab": {
          "base_uri": "https://localhost:8080/",
          "height": 38
        },
        "id": "DeD8OB6q8fGu",
        "outputId": "562a5710-0ef2-4ebf-8c13-894a148e2919"
      },
      "source": [
        "x, y, z = sym.symbols('x, y, z')\n",
        "exp6 = sym.exp(x * y * z)\n",
        "sym.diff(exp6, x)"
      ],
      "execution_count": 8,
      "outputs": [
        {
          "output_type": "execute_result",
          "data": {
            "text/latex": "$\\displaystyle y z e^{x y z}$",
            "text/plain": [
              "y*z*exp(x*y*z)"
            ]
          },
          "metadata": {},
          "execution_count": 8
        }
      ]
    },
    {
      "cell_type": "code",
      "metadata": {
        "colab": {
          "base_uri": "https://localhost:8080/",
          "height": 38
        },
        "id": "klXfYP4Q8f_Z",
        "outputId": "e72e413e-d115-4de8-f6d6-643cd0307d2b"
      },
      "source": [
        "sym.diff(exp6, x, x)"
      ],
      "execution_count": 9,
      "outputs": [
        {
          "output_type": "execute_result",
          "data": {
            "text/latex": "$\\displaystyle y^{2} z^{2} e^{x y z}$",
            "text/plain": [
              "y**2*z**2*exp(x*y*z)"
            ]
          },
          "metadata": {},
          "execution_count": 9
        }
      ]
    },
    {
      "cell_type": "code",
      "metadata": {
        "colab": {
          "base_uri": "https://localhost:8080/",
          "height": 38
        },
        "id": "ueGMSE9S8g5L",
        "outputId": "3a62b4fa-3295-47e1-ddf7-d1bbb8d8a3be"
      },
      "source": [
        "sym.diff(exp6, x, y)"
      ],
      "execution_count": 10,
      "outputs": [
        {
          "output_type": "execute_result",
          "data": {
            "text/latex": "$\\displaystyle z \\left(x y z + 1\\right) e^{x y z}$",
            "text/plain": [
              "z*(x*y*z + 1)*exp(x*y*z)"
            ]
          },
          "metadata": {},
          "execution_count": 10
        }
      ]
    },
    {
      "cell_type": "code",
      "metadata": {
        "colab": {
          "base_uri": "https://localhost:8080/",
          "height": 38
        },
        "id": "VNROfSOq8hyb",
        "outputId": "d4c80d83-5787-409a-cf23-25a3781b9728"
      },
      "source": [
        "sym.diff(exp6, x, y, z)"
      ],
      "execution_count": 11,
      "outputs": [
        {
          "output_type": "execute_result",
          "data": {
            "text/latex": "$\\displaystyle \\left(x^{2} y^{2} z^{2} + 3 x y z + 1\\right) e^{x y z}$",
            "text/plain": [
              "(x**2*y**2*z**2 + 3*x*y*z + 1)*exp(x*y*z)"
            ]
          },
          "metadata": {},
          "execution_count": 11
        }
      ]
    },
    {
      "cell_type": "markdown",
      "metadata": {
        "id": "QRV1WSJF8jAE"
      },
      "source": [
        "3.1 Functional integration"
      ]
    },
    {
      "cell_type": "code",
      "metadata": {
        "colab": {
          "base_uri": "https://localhost:8080/",
          "height": 51
        },
        "id": "d8dg64Gb8kXJ",
        "outputId": "241483d3-6916-4bed-e727-96be9c8ee09f"
      },
      "source": [
        "value = sym.integrate(sym.sin(x) * sym.cos(x), (x, 0, sym.pi / 2))\n",
        "value"
      ],
      "execution_count": 12,
      "outputs": [
        {
          "output_type": "execute_result",
          "data": {
            "text/latex": "$\\displaystyle \\frac{1}{2}$",
            "text/plain": [
              "1/2"
            ]
          },
          "metadata": {},
          "execution_count": 12
        }
      ]
    },
    {
      "cell_type": "code",
      "metadata": {
        "colab": {
          "base_uri": "https://localhost:8080/"
        },
        "id": "tC8obFSq9BWw",
        "outputId": "92b9bc29-1931-40b9-d0c6-f535f1257403"
      },
      "source": [
        "import numpy as np\n",
        "\n",
        "xs = np.linspace(-4,4,100)\n",
        "point = -2\n",
        "f = sym.sin(x) + sym.cos(x)\n",
        "fLam = sym.lambdify('x', f)\n",
        "fdLam = sym.lambdify('x', sym.diff(f))\n",
        "derived = fLam(point) + (fdLam(point) * (xs - point))\n",
        "f\n",
        "derived"
      ],
      "execution_count": 14,
      "outputs": [
        {
          "output_type": "execute_result",
          "data": {
            "text/plain": [
              "array([-2.31174544e+00, -2.27189489e+00, -2.23204434e+00, -2.19219379e+00,\n",
              "       -2.15234323e+00, -2.11249268e+00, -2.07264213e+00, -2.03279157e+00,\n",
              "       -1.99294102e+00, -1.95309047e+00, -1.91323992e+00, -1.87338936e+00,\n",
              "       -1.83353881e+00, -1.79368826e+00, -1.75383771e+00, -1.71398715e+00,\n",
              "       -1.67413660e+00, -1.63428605e+00, -1.59443549e+00, -1.55458494e+00,\n",
              "       -1.51473439e+00, -1.47488384e+00, -1.43503328e+00, -1.39518273e+00,\n",
              "       -1.35533218e+00, -1.31548163e+00, -1.27563107e+00, -1.23578052e+00,\n",
              "       -1.19592997e+00, -1.15607941e+00, -1.11622886e+00, -1.07637831e+00,\n",
              "       -1.03652776e+00, -9.96677203e-01, -9.56826650e-01, -9.16976098e-01,\n",
              "       -8.77125545e-01, -8.37274992e-01, -7.97424439e-01, -7.57573887e-01,\n",
              "       -7.17723334e-01, -6.77872781e-01, -6.38022228e-01, -5.98171676e-01,\n",
              "       -5.58321123e-01, -5.18470570e-01, -4.78620017e-01, -4.38769465e-01,\n",
              "       -3.98918912e-01, -3.59068359e-01, -3.19217806e-01, -2.79367254e-01,\n",
              "       -2.39516701e-01, -1.99666148e-01, -1.59815595e-01, -1.19965043e-01,\n",
              "       -8.01144899e-02, -4.02639372e-02, -4.13384443e-04,  3.94371683e-02,\n",
              "        7.92877211e-02,  1.19138274e-01,  1.58988827e-01,  1.98839379e-01,\n",
              "        2.38689932e-01,  2.78540485e-01,  3.18391038e-01,  3.58241590e-01,\n",
              "        3.98092143e-01,  4.37942696e-01,  4.77793249e-01,  5.17643801e-01,\n",
              "        5.57494354e-01,  5.97344907e-01,  6.37195460e-01,  6.77046012e-01,\n",
              "        7.16896565e-01,  7.56747118e-01,  7.96597671e-01,  8.36448223e-01,\n",
              "        8.76298776e-01,  9.16149329e-01,  9.55999882e-01,  9.95850434e-01,\n",
              "        1.03570099e+00,  1.07555154e+00,  1.11540209e+00,  1.15525265e+00,\n",
              "        1.19510320e+00,  1.23495375e+00,  1.27480430e+00,  1.31465486e+00,\n",
              "        1.35450541e+00,  1.39435596e+00,  1.43420651e+00,  1.47405707e+00,\n",
              "        1.51390762e+00,  1.55375817e+00,  1.59360873e+00,  1.63345928e+00])"
            ]
          },
          "metadata": {},
          "execution_count": 14
        }
      ]
    },
    {
      "cell_type": "code",
      "metadata": {
        "colab": {
          "base_uri": "https://localhost:8080/",
          "height": 269
        },
        "id": "Sp3suErG8n0E",
        "outputId": "87bec8ba-8a6a-4403-d71f-14a1db610ac2"
      },
      "source": [
        "import matplotlib.pyplot as plt\n",
        "\n",
        "plt.plot(xs, fLam(xs), lw = 2, color = 'k', zorder = 1, label = 'f(x)')\n",
        "plt.scatter(point, fLam(point), color = 'r', zorder = 2, label = r'$f(x_0)$')\n",
        "plt.plot(xs, derived, lw = 2, color = 'b', zorder =1, label = r'$f(x_0) + (\\nabla_xf)(x_0)(x-x_0)$')\n",
        "plt.axis([-4, 4, -3, 5])\n",
        "plt.legend(loc = 1);"
      ],
      "execution_count": 15,
      "outputs": [
        {
          "output_type": "display_data",
          "data": {
            "image/png": "[encoded data removed]",
            "text/plain": [
              "<Figure size 432x288 with 1 Axes>"
            ]
          },
          "metadata": {
            "needs_background": "light"
          }
        }
      ]
    },
    {
      "cell_type": "markdown",
      "metadata": {
        "id": "wGh-xv9C8pO9"
      },
      "source": [
        "3.1.1 Use the Harvard Autograd library"
      ]
    },
    {
      "cell_type": "markdown",
      "metadata": {
        "id": "mzLGWFDY8qS7"
      },
      "source": [
        "grad and jacobian take a function as their argument.\n",
        "\n",
        "More information: https://github.com/HIPS/autograd\n",
        "\n"
      ]
    },
    {
      "cell_type": "code",
      "metadata": {
        "colab": {
          "base_uri": "https://localhost:8080/"
        },
        "id": "KlHQQlMq8rS9",
        "outputId": "f0c7c971-fd3d-4ff2-9269-159fa3876342"
      },
      "source": [
        "import autograd.numpy as np # a concise version of numpy\n",
        "from autograd import grad, jacobian\n",
        "\n",
        "x = np.array([5, 3], dtype = float)\n",
        "\n",
        "def cost(x):\n",
        "    return x[0] ** 2 / x[1] - np.log(x[1])\n",
        "\n",
        "gradient_cost = grad(cost)\n",
        "jacobian_cost = jacobian(cost)\n",
        "gradient_cost(x)\n",
        "jacobian_cost(np.array([x, x, x]))\n"
      ],
      "execution_count": 16,
      "outputs": [
        {
          "output_type": "execute_result",
          "data": {
            "text/plain": [
              "array([[[ 2.        ,  0.        ],\n",
              "        [-1.2       ,  0.        ],\n",
              "        [ 0.        ,  0.        ]],\n",
              "\n",
              "       [[ 0.        ,  2.        ],\n",
              "        [ 0.        , -1.33333333],\n",
              "        [ 0.        ,  0.        ]]])"
            ]
          },
          "metadata": {},
          "execution_count": 16
        }
      ]
    },
    {
      "cell_type": "markdown",
      "metadata": {
        "id": "tBaPbKxs8sZo"
      },
      "source": [
        "3.1.2 Or use the jacobian method available for matrices in sympy"
      ]
    },
    {
      "cell_type": "code",
      "metadata": {
        "colab": {
          "base_uri": "https://localhost:8080/",
          "height": 78
        },
        "id": "i16NjY9o8tpt",
        "outputId": "6bb93b3a-ef15-4d9b-ba65-f3b3f072cfae"
      },
      "source": [
        "from sympy import sin, cos, Matrix\n",
        "from sympy.abc import rho, phi\n",
        "\n",
        "X = Matrix([rho * cos(phi), rho * sin(phi), rho ** 2])\n",
        "Y = Matrix([rho, phi])\n",
        "X.jacobian(Y)\n"
      ],
      "execution_count": 17,
      "outputs": [
        {
          "output_type": "execute_result",
          "data": {
            "text/latex": "$\\displaystyle \\left[\\begin{matrix}\\cos{\\left(\\phi \\right)} & - \\rho \\sin{\\left(\\phi \\right)}\\\\\\sin{\\left(\\phi \\right)} & \\rho \\cos{\\left(\\phi \\right)}\\\\2 \\rho & 0\\end{matrix}\\right]$",
            "text/plain": [
              "Matrix([\n",
              "[cos(phi), -rho*sin(phi)],\n",
              "[sin(phi),  rho*cos(phi)],\n",
              "[   2*rho,             0]])"
            ]
          },
          "metadata": {},
          "execution_count": 17
        }
      ]
    }
  ]
}